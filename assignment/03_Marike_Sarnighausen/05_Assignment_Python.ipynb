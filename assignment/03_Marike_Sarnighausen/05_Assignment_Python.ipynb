{
  "cells": [
    {
      "cell_type": "markdown",
      "source": [
        "# Assignment 05\n",
        "#### Python Basics V - Text Processing\n",
        "\n",
        "This tutorial was written by Terry L. Ruas (University of Göttingen). The references for external contributors for which this material was anyhow adapted/inspired are in the Acknowledgments section (end of the document)."
      ],
      "metadata": {
        "collapsed": false,
        "id": "CyG8nU1B7btq"
      }
    },
    {
      "cell_type": "markdown",
      "source": [
        "This notebook will cover the following tasks:\n",
        "\n",
        "1. Text Pre-Processing\n",
        "2. Simple Text Analysis"
      ],
      "metadata": {
        "collapsed": false,
        "id": "fjMwJ_zg7btr"
      }
    },
    {
      "cell_type": "markdown",
      "source": [
        "## Task 01 – Text Pre-Processing\n",
        "A computational analysis of natural language text typically requires several pre-processing steps, such as excluding irrelevant text parts, separating the text into words, phrases, or sentences depending on the analysis use case, removing so-called stop words, i.e., words that contain little to no semantic meaning, and normalizing the texts, e.g., by removing punctuation and capitalization.\n",
        "\n",
        "Use the *download_file()* function developed in the past assignments to download the plain text versions of Shakespeare’s play [Macbeth](https://ia802707.us.archive.org/1/items/macbeth02264gut/0ws3410.txt) and Bacon’s [New Atlantis](https://ia801309.us.archive.org/24/items/newatlantis02434gut/nwatl10.txt). If you choose not to implement assignment 4, task 6, download the files manually. We will also provide some txt files.\n",
        "\n",
        "Inspect these real-world texts manually to get an idea of what needs to be done to clean and prepare\n",
        "the texts for computational analysis. Implement the following functions to perform common pre-processing steps on the texts:\n",
        "1. *get_speaker_text()* – returns only the text spoken by the characters in the plays and removes all other text in the files, such as:\n",
        "    - Information about the file, acknowledgements, copyright notices etc.\n",
        "    - Headings indicating the act and scene\n",
        "    - Stage instructions\n",
        "    - Character names\n",
        "2. *normalize_text()*\n",
        "    - converts all text to lower case\n",
        "    - removes all punctuation from the texts\n",
        "3. *remove_stopwords()* – eliminates all stop words that are part of the list of English stop words (we provide two lists of stopwords, try both and see how they perform)\n",
        "4. *tokenize_text()* – splits the cleaned text into words\n",
        "\n",
        "This program is a pre-req for the next one."
      ],
      "metadata": {
        "collapsed": false,
        "id": "zqcCFwVV7bts"
      }
    },
    {
      "cell_type": "code",
      "execution_count": null,
      "outputs": [],
      "source": [
        "#####Uebungsblatt 5\n",
        "#get speaker text for Macbeth\n",
        "def get_speaker_text_mb(text):\n",
        "    speaker_text = []\n",
        "    with open(text) as file:\n",
        "        for line in file:\n",
        "            # all speakertext starts with a whitespace, the name of the speaker and a dot\n",
        "            if line.startswith((' ', '\\t')) and len(line.split('.',1)) == 2:\n",
        "                x = line.split('.', 1)\n",
        "                speaker_text.append(x[1])\n",
        "        return speaker_text\n",
        "\n",
        "def get_speaker_text_na(text):\n",
        "    alltext = \"\"\n",
        "    with open(text) as file:\n",
        "        for line in file:\n",
        "            alltext +=line\n",
        "        split_text = re.findall(r'\"(.*?)\"', alltext)\n",
        "        print(split_text)\n",
        "\n",
        "\n",
        "def normalize_text(text):\n",
        "    norm_text=[]\n",
        "    with open(text) as file:\n",
        "        for line in file:\n",
        "            punctuation_removed = line.translate(str.maketrans('', '', string.punctuation))\n",
        "            norm_text.append(punctuation_removed.lower())\n",
        "        return norm_text\n",
        "\n",
        "# create list of english stopwords\n",
        "stopwords=[]\n",
        "with open ('eng_stop_words.txt') as file:\n",
        "    for line in file:\n",
        "        line = line.replace('\\n', '')\n",
        "        stopwords.append(line)\n",
        "#print(stopwords)\n",
        "\n",
        "# here the string is already tokenized. That's why I didn't program the function tokenize\n",
        "def remove_stopwords(text):\n",
        "    rem_stop = []\n",
        "    with open(text) as file:\n",
        "        for line in file:\n",
        "            words = line.split()\n",
        "            for word in words:\n",
        "                if word not in stopwords:\n",
        "                    rem_stop.append(word)\n",
        "        return rem_stop"
      ],
      "metadata": {
        "id": "t5Mz4YP67btt"
      }
    },
    {
      "cell_type": "markdown",
      "source": [
        "## Task 02 – Classes\n",
        "The [Baconian theory](https://en.wikipedia.org/wiki/Baconian_theory_of_Shakespeare_authorship) holds that Sir Francis Bacon is the author of Shakespeare’s plays. We want to perform a very simple stylistic analysis between Shakespeare’s play Macbeth and Bacon’s New Atlantis. We check for words that frequently occur in both documents to see whether there are characteristic words that co-occur in the texts, which might give some support to the theory.\n",
        "\n",
        "Your Task:\n",
        "1. Download and pre-process the texts as follows:  \n",
        "  New Atlantis\n",
        "    1. *get_speaker_text()*\n",
        "    2. *normalize_text()*\n",
        "    3. *remove_stopwords()*\n",
        "    4. *tokenize_text()*   \n",
        "  \n",
        " Macbeth\n",
        "    1. *get_speaker_text()*\n",
        "    2. *normalize_text()*\n",
        "        1. *utils_ocr.correct_ocr_errors()* – we will provide a function to deal with OCR errors.\n",
        "    3. *remove_stopwords()*\n",
        "    4. *tokenize_text()*\n",
        "2. For the pre-processed texts, compute the list of word co-occurrence frequencies, i.e. which words occur in both documents and how often. Use the format:  \n",
        "[term , frequency_doc1 , frequency_doc2 , sum_of_frequencies]  \n",
        "Sort the list according to the sum of the frequencies in descending order.\n",
        "3. Use the csv library to store the ordered word co-occurrence frequency list in a CSV file. **You can zip the csv and upload it to GitHub.**"
      ],
      "metadata": {
        "collapsed": false,
        "id": "vcpnC_hq7btu"
      }
    },
    {
      "cell_type": "code",
      "execution_count": null,
      "outputs": [],
      "source": [
        "# write speaker text in document\n",
        "with open(\"mb_speak.txt\", \"w\") as file:\n",
        "    file.writelines(get_speaker_text_mb('Macbeth.txt'))\n",
        "\n",
        "# normalize text\n",
        "with open(\"mb_norm.txt\", \"w\") as file:\n",
        "    file.writelines(normalize_text(\"mb_speak.txt\"))\n",
        "\n",
        "'''\n",
        "#remove ocr errors\n",
        "with open(\"mb_ocr.txt\", \"w\") as file:\n",
        "    file.writelines(correct_ocr_errors(\"mb_norm.txt\"))\n",
        "'''\n",
        "\n",
        "# remove stopwords\n",
        "mb_clean = remove_stopwords(\"mb_norm.txt\")\n",
        "print(mb_clean)\n",
        "\n",
        "#count words in list\n",
        "occurence_words = {word: mb_clean.count(word) for word in mb_clean}\n",
        "print(occurence_words)\n"
      ],
      "metadata": {
        "id": "LPkEibMM7btu"
      }
    }
  ],
  "metadata": {
    "kernelspec": {
      "display_name": "Python 3",
      "language": "python",
      "name": "python3"
    },
    "language_info": {
      "codemirror_mode": {
        "name": "ipython",
        "version": 2
      },
      "file_extension": ".py",
      "mimetype": "text/x-python",
      "name": "python",
      "nbconvert_exporter": "python",
      "pygments_lexer": "ipython2",
      "version": "2.7.6"
    },
    "colab": {
      "provenance": []
    }
  },
  "nbformat": 4,
  "nbformat_minor": 0
}