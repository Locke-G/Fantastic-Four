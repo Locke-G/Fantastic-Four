{
  "cells": [
    {
      "cell_type": "markdown",
      "source": [
        "# Assignment 03\n",
        "#### Python Basics III - Functions and Classes\n",
        "\n",
        "This tutorial was written by Terry L. Ruas (University of Göttingen). The references for external contributors for which this material was anyhow adapted/inspired are in the Acknowledgments section (end of the document)."
      ],
      "metadata": {
        "collapsed": false,
        "id": "3i7Q6MM_7a82"
      }
    },
    {
      "cell_type": "markdown",
      "source": [
        "This notebook will cover the following tasks:\n",
        "\n",
        "1. Dictionary\n",
        "2. Classes"
      ],
      "metadata": {
        "collapsed": false,
        "id": "eKtTDCOS7a83"
      }
    },
    {
      "cell_type": "markdown",
      "source": [
        "## Task 01 – Dictionary\n",
        "Imagine you have to write a (very simple) bookkeepingsystem for a bank that keeps track of the account balances of each of its customers.\n",
        "1. Write a function that spans a dictionary holding a default balance of 0 for an initial list of customers. For simplicity, assume customer names are unique identifier.  (optional) Can you express that same functionality using a lambda function?\n",
        "2. What are elegant ways to add or remove single and multiple customers using the functionality of dict?\n",
        "3. Now write two simple functions that allow you to deposit and withdraw money for a given bank customer.\n",
        "4. Include error messages for inputs that are not permissible, e.g., withdrawing negative amounts or overdrawing the account, etc."
      ],
      "metadata": {
        "collapsed": false,
        "id": "XumFInmh7a85"
      }
    },
    {
      "cell_type": "code",
      "execution_count": 12,
      "outputs": [
        {
          "output_type": "stream",
          "name": "stdout",
          "text": [
            "{'Hubert': 2, 'Hilde': 0, 'Rick': 0}\n"
          ]
        }
      ],
      "source": [
        "#List of customers\n",
        "customers = [\"Alice\", \"Bob\", \"Hubert\"]\n",
        "\n",
        "new_customers = {'Hilde': 0, 'Rick':0}\n",
        "\n",
        "#First function that creates a dictionary with a zero for every customer\n",
        "def build_database(names):\n",
        "  dict1 = {x:0 for x in names}\n",
        "  return dict1\n",
        "\n",
        "dict1 = build_database(customers)\n",
        "\n",
        "#with lambda\n",
        "#dict2 = dict((lambda x:0) for x in customers)\n",
        "#print(dict2)\n",
        "\n",
        "#Second function to add customers\n",
        "def add_customers(dict1, new_customers):\n",
        "  update = dict1.update(new_customers)\n",
        "  return update\n",
        "\n",
        "add_customers(dict1, new_customers)\n",
        "\n",
        "#Function to delete customers\n",
        "def remove_customers(dict1, list):\n",
        "  for name in list:\n",
        "    del dict1[name]\n",
        "\n",
        "remove_customers(dict1, ['Alice', 'Bob'])\n",
        "\n",
        "#Function to deposit money\n",
        "def deposit (dict1, name, amount):\n",
        "  if amount < 0:\n",
        "    print(\"Number has to be positive.\")\n",
        "  else:\n",
        "    previous = dict1[name]\n",
        "    dict1[name] = previous + amount\n",
        "\n",
        "deposit(dict1, 'Hubert', 5)\n",
        "\n",
        "#Function to withdraw money\n",
        "def withdraw (dict1, name, amount):\n",
        "  if amount < 0:\n",
        "    print(\"Number has to be positive.\")\n",
        "  else:\n",
        "    previous = dict1[name]\n",
        "    new = previous - amount\n",
        "    if new < 0:\n",
        "      print(\"You don't have enough money.\")\n",
        "    else:\n",
        "      dict1[name] = previous - amount\n",
        "\n",
        "withdraw(dict1, 'Hubert', 3)\n",
        "print(dict1)\n",
        "\n",
        "\n"
      ],
      "metadata": {
        "id": "aEr0j2IX7a85",
        "outputId": "0cb32471-4431-4ace-e7bc-37831fa7f0bc",
        "colab": {
          "base_uri": "https://localhost:8080/"
        }
      }
    },
    {
      "cell_type": "markdown",
      "source": [
        "## Task 02 – Classes\n",
        "The manager thinks that the simple bookkeeping system you have built is not powerful enough. She requests that you start from scratch and use classes instead.\n",
        "1. Write a simple class with appropriate constructor *\\_\\_init\\_\\_* that initializes an object of class *Customer* tracking the same information as in Task 01.\n",
        "2. Now write two simple methods for class *Customer* that allow you to deposit and withdraw money for a given customer object.\n",
        "3. Include error messages for inputs that are not permissible, e.g., withdrawing negative amounts or overdrawing the account.\n",
        "4. (Inheritance) Write a child class *SavingsCustomer* that inherits its features from the parent class *Customer*. A savings customer has an extra savings balance for receiving extra interest. The class should have a method to transfer money back and forth between the accounts' main balance as well as the savings balance. Do not forget to add reasonable error messages."
      ],
      "metadata": {
        "collapsed": false,
        "id": "9tMOI3tn7a86"
      }
    },
    {
      "cell_type": "code",
      "execution_count": 34,
      "outputs": [
        {
          "output_type": "stream",
          "name": "stdout",
          "text": [
            "Saving:  5\n",
            "Main:  3\n",
            "Saving:  0\n",
            "Main:  8\n"
          ]
        }
      ],
      "source": [
        "class Customer:\n",
        "  name = \"\"\n",
        "  amount = 0\n",
        "\n",
        "  #Constructor\n",
        "  def __init__ (self, name, amount):\n",
        "    self.name = name\n",
        "    self.amount = amount\n",
        "  \n",
        "  #Deposit money\n",
        "  def deposit2 (self, money):\n",
        "    if money < 0:\n",
        "      print(\"Amount has to be positive.\")\n",
        "    else:\n",
        "      self.amount = self.amount + money\n",
        "  \n",
        "  #Wirthdraw money\n",
        "  def withdraw2 (self, money):\n",
        "    if money < 0:\n",
        "      print(\"Amount has to be positive.\")\n",
        "    elif self.amount - money < 0:\n",
        "      print(\"You don't have enough money.\")\n",
        "    else:\n",
        "      self.amount = self.amount - money\n",
        "\n",
        "Custom1 = Customer(\"Max\", 0)\n",
        "Custom1.deposit2(5)\n",
        "Custom1.withdraw2(1)\n",
        "#print(Custom1.amount)\n",
        "\n",
        "#Savings class\n",
        "class SavingsCustomer(Customer):\n",
        "  saving = 0\n",
        "\n",
        "  def send_money(self, money, where):\n",
        "    if money < 0:\n",
        "      print(\"Amount has to be positive.\")\n",
        "    if where == 's': # send money from main to saving\n",
        "      if money > self.amount:\n",
        "        print(\"Not enough money\")\n",
        "      else:\n",
        "        self.amount -= money\n",
        "        self.saving += money\n",
        "    if where == 'm': #send money from saving to main\n",
        "      if money > self.saving:\n",
        "        print(\"Not enough money\")\n",
        "      else:\n",
        "        self.saving -= money\n",
        "        self.amount += money\n",
        "\n",
        "\n",
        "Custom2 = SavingsCustomer(\"Monica\", 8)\n",
        "Custom2.send_money(5, 's')\n",
        "print(\"Saving: \",Custom2.saving)\n",
        "print(\"Main: \",Custom2.amount)\n",
        "\n",
        "Custom2.send_money(5, 'm')\n",
        "print(\"Saving: \",Custom2.saving)\n",
        "print(\"Main: \",Custom2.amount)"
      ],
      "metadata": {
        "id": "mcZ6wBOO7a86",
        "colab": {
          "base_uri": "https://localhost:8080/"
        },
        "outputId": "06d83d4f-f315-4aad-d282-c808fa51ee17"
      }
    }
  ],
  "metadata": {
    "kernelspec": {
      "display_name": "Python 3",
      "language": "python",
      "name": "python3"
    },
    "language_info": {
      "codemirror_mode": {
        "name": "ipython",
        "version": 2
      },
      "file_extension": ".py",
      "mimetype": "text/x-python",
      "name": "python",
      "nbconvert_exporter": "python",
      "pygments_lexer": "ipython2",
      "version": "2.7.6"
    },
    "colab": {
      "provenance": []
    }
  },
  "nbformat": 4,
  "nbformat_minor": 0
}