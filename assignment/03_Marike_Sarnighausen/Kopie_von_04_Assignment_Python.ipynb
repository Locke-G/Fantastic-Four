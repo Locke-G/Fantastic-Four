{
  "cells": [
    {
      "cell_type": "markdown",
      "source": [
        "# Assignment 04\n",
        "#### Python Basics IV - Functions, Unity Testing, and Logging\n",
        "\n",
        "This tutorial was written by Terry L. Ruas (University of Göttingen). The references for external contributors for which this material was anyhow adapted/inspired are in the Acknowledgments section (end of the document)."
      ],
      "metadata": {
        "collapsed": false,
        "id": "_ikvQGPR7a99"
      }
    },
    {
      "cell_type": "markdown",
      "source": [
        "This notebook will cover the following tasks:\n",
        "\n",
        "1. Lambda functions\n",
        "2. List comprehensions\n",
        "3. Unity Test\n",
        "4. HTTP Request\n",
        "5. Logging\n",
        "6. Download File"
      ],
      "metadata": {
        "collapsed": false,
        "id": "SchiSV187a9-"
      }
    },
    {
      "cell_type": "markdown",
      "source": [
        "## Task 01 – Lambda functions\n",
        "Python supports lambda functions as a handy way to define small, anonymous, i.e., unnamed, functions inline. The basic syntax for lambda functions is:\n",
        "$$\n",
        " \\textbf{lambda}\\text{ parameter1, parameter2, ... : }\\textbf{expression}\n",
        "$$\n",
        "Use a lambda function only to retain the even values in an array of integers. Test your function with an input array of your choosing. Print the input array and the filtered output array to stdout."
      ],
      "metadata": {
        "collapsed": false,
        "id": "QOoNCxgu7a-A"
      }
    },
    {
      "cell_type": "code",
      "execution_count": null,
      "outputs": [
        {
          "output_type": "stream",
          "name": "stdout",
          "text": [
            "[1, 2, 3, 4, 5]\n",
            "[2, 4]\n"
          ]
        }
      ],
      "source": [
        "intlist = [1, 2, 3, 4, 5]\n",
        "print(intlist)\n",
        "print(list(filter(lambda num: num%2==0, intlist)))"
      ],
      "metadata": {
        "id": "5keoJAOw7a-B",
        "outputId": "e83e63bf-efaf-468f-ca6c-4072590e8514",
        "colab": {
          "base_uri": "https://localhost:8080/"
        }
      }
    },
    {
      "cell_type": "markdown",
      "source": [
        "## Task 02 – List comprehensions\n",
        "Python supports list comprehension. The basic syntax of list comprehensions is:\n",
        "$$\n",
        "\\text{L = [<elem> for <elem> <Condition>]}\n",
        "$$\n",
        "Use list comprehensions to write a Python function *remove_long_words()* that:\n",
        "- accepts a sentence s and an integer n as input parameters\n",
        "- uses the *split()* function of String objects to split the sentence into words\n",
        "- stores the individual words in a list\n",
        "- removes all words that are longer than n characters from the list, thereby creating a new list\n",
        "- prints the list to stdout"
      ],
      "metadata": {
        "collapsed": false,
        "id": "XSyLzHT17a-B"
      }
    },
    {
      "cell_type": "code",
      "execution_count": null,
      "outputs": [
        {
          "output_type": "stream",
          "name": "stdout",
          "text": [
            "['I', 'like', 'bananas', 'kiwis', 'and', 'apples']\n",
            "['I', 'like', 'kiwis', 'and', 'apples']\n"
          ]
        }
      ],
      "source": [
        "\n",
        "def remove_long_words(sentence, number):\n",
        "  wordlist = sentence.split()\n",
        "  #even_squares = [x ** 2 for x in nums if x % 2 == 0]\n",
        "  newlist = [x for x in wordlist if len(x)<= number]\n",
        "  print(wordlist)\n",
        "  print(newlist)\n",
        "\n",
        "remove_long_words(\"I like bananas kiwis and apples\", 6)\n",
        "\n",
        "\n",
        "  \n"
      ],
      "metadata": {
        "id": "hT-mGe_T7a-B",
        "outputId": "c4835c3a-cbac-4cc9-fd62-e01b1565a9e2",
        "colab": {
          "base_uri": "https://localhost:8080/"
        }
      }
    },
    {
      "cell_type": "markdown",
      "source": [
        "## Task 03 – Unity Test\n",
        "The following algorithm in Python converts numbers in decimal representation to binary.\n",
        "1. Develop a unit test that checks for values in the interval \\[-1,3\\] whether the algorithm returns the\n",
        "expected results.\n",
        "2. Adjust the algorithm, so it passes the unit test developed in 1). Rename the function to\n",
        "*decimal_to_binary_correct()*"
      ],
      "metadata": {
        "collapsed": false,
        "id": "_QHEBddh7a-C"
      }
    },
    {
      "cell_type": "code",
      "execution_count": null,
      "outputs": [],
      "source": [
        "import unittest\n",
        "import math\n",
        "\n",
        "def decimal2binary(n):\n",
        "    # function to convert decimal integers to binary\n",
        "    x = []\n",
        "    while n > 0:\n",
        "        x.append(n % 2)\n",
        "        n = math.floor(n/2)\n",
        "    return x[::-1]\n",
        "\n",
        "def decimal2binary_correct(n):\n",
        "    # function to convert decimal integers to binary\n",
        "    x = []\n",
        "    negative = False\n",
        "    if n == 0:\n",
        "        x.append(0)\n",
        "        return x\n",
        "    elif n < 0:\n",
        "        negative = True\n",
        "        n = abs(n)\n",
        "    while n > 0:\n",
        "        x.append(n % 2)\n",
        "        n = math.floor(n/2)\n",
        "    if negative:\n",
        "        x.append(\"-\")\n",
        "    return x[::-1]\n",
        "\n",
        "\n",
        "class Test(unittest.TestCase):\n",
        "    def test_convert(self):\n",
        "        self.assertEqual(decimal2binary_correct(-1), [\"-\", 1])\n",
        "        self.assertEqual(decimal2binary_correct(0), [0])\n",
        "        self.assertEqual(decimal2binary_correct(1), [1])\n",
        "        self.assertEqual(decimal2binary_correct(2), [1, 0])\n",
        "        self.assertEqual(decimal2binary_correct(3), [1, 1])\n",
        "\n",
        "\n",
        "if __name__ == '__main__':\n",
        "    unittest.main()"
      ],
      "metadata": {
        "id": "IdFKIU4u7a-C"
      }
    },
    {
      "cell_type": "code",
      "execution_count": null,
      "outputs": [
        {
          "output_type": "error",
          "ename": "TypeError",
          "evalue": "ignored",
          "traceback": [
            "\u001b[0;31m---------------------------------------------------------------------------\u001b[0m",
            "\u001b[0;31mTypeError\u001b[0m                                 Traceback (most recent call last)",
            "\u001b[0;32m<ipython-input-27-6ff7067505b0>\u001b[0m in \u001b[0;36m<module>\u001b[0;34m\u001b[0m\n\u001b[1;32m      4\u001b[0m     \u001b[0mself\u001b[0m\u001b[0;34m.\u001b[0m\u001b[0massertEqual\u001b[0m\u001b[0;34m(\u001b[0m\u001b[0mmath\u001b[0m\u001b[0;34m.\u001b[0m\u001b[0mdecimal2binary\u001b[0m\u001b[0;34m(\u001b[0m\u001b[0;36m2\u001b[0m\u001b[0;34m)\u001b[0m\u001b[0;34m,\u001b[0m \u001b[0;34m[\u001b[0m\u001b[0;36m1\u001b[0m\u001b[0;34m,\u001b[0m\u001b[0;36m2\u001b[0m\u001b[0;34m]\u001b[0m\u001b[0;34m)\u001b[0m\u001b[0;34m\u001b[0m\u001b[0;34m\u001b[0m\u001b[0m\n\u001b[1;32m      5\u001b[0m \u001b[0;34m\u001b[0m\u001b[0m\n\u001b[0;32m----> 6\u001b[0;31m \u001b[0munittest\u001b[0m\u001b[0;34m(\u001b[0m\u001b[0;34m)\u001b[0m\u001b[0;34m\u001b[0m\u001b[0;34m\u001b[0m\u001b[0m\n\u001b[0m\u001b[1;32m      7\u001b[0m \u001b[0;34m\u001b[0m\u001b[0m\n",
            "\u001b[0;31mTypeError\u001b[0m: 'module' object is not callable"
          ]
        }
      ],
      "source": [
        "\n",
        "  "
      ],
      "metadata": {
        "id": "McO91gqP7a-D",
        "outputId": "f048ecbe-601a-4d35-9780-76d041e7f954",
        "colab": {
          "base_uri": "https://localhost:8080/",
          "height": 217
        }
      }
    },
    {
      "cell_type": "markdown",
      "source": [
        "## Task 04 – HTTP Request\n",
        "Working with HTTP connections is essential for many data gathering tasks. The Python library *urllib* provides all functionality we need.\n",
        "Write a Python function *open_url(url)* that:\n",
        "- uses urllib to establish a HTTP connection to an arbitrary website\n",
        "- retrieves and prints the first 200 characters of the html resource, i.e. the html source code, of the chosen website\n",
        "- handles the exceptions thrown by the *urllib.request* function\n",
        "\n",
        "FYI: The basic syntax for exception handling in Python is as follows:\n",
        "```\n",
        "try:\n",
        "    ...\n",
        "    return ...\n",
        "except SomeError1 as e:\n",
        "    # error-specific exception handling\n",
        "except SomeError2 as e:\n",
        "    # error-specific exception handling\n",
        "except\n",
        "    # general exception handling\n",
        "```"
      ],
      "metadata": {
        "collapsed": false,
        "id": "iNLOQ5y47a-E"
      }
    },
    {
      "cell_type": "code",
      "execution_count": null,
      "outputs": [
        {
          "output_type": "error",
          "ename": "NameError",
          "evalue": "ignored",
          "traceback": [
            "\u001b[0;31m---------------------------------------------------------------------------\u001b[0m",
            "\u001b[0;31mNameError\u001b[0m                                 Traceback (most recent call last)",
            "\u001b[0;32m<ipython-input-1-aa5c79a0dfca>\u001b[0m in \u001b[0;36mopen_url\u001b[0;34m(url)\u001b[0m\n\u001b[1;32m      4\u001b[0m     \u001b[0;32mtry\u001b[0m\u001b[0;34m:\u001b[0m\u001b[0;34m\u001b[0m\u001b[0;34m\u001b[0m\u001b[0m\n\u001b[0;32m----> 5\u001b[0;31m         \u001b[0;32mwith\u001b[0m \u001b[0murllib\u001b[0m\u001b[0;34m.\u001b[0m\u001b[0mrequest\u001b[0m\u001b[0;34m.\u001b[0m\u001b[0murlopen\u001b[0m\u001b[0;34m(\u001b[0m\u001b[0murl\u001b[0m\u001b[0;34m)\u001b[0m \u001b[0;32mas\u001b[0m \u001b[0mresponse\u001b[0m\u001b[0;34m:\u001b[0m\u001b[0;34m\u001b[0m\u001b[0;34m\u001b[0m\u001b[0m\n\u001b[0m\u001b[1;32m      6\u001b[0m             \u001b[0mhtml\u001b[0m \u001b[0;34m=\u001b[0m \u001b[0mresponse\u001b[0m\u001b[0;34m.\u001b[0m\u001b[0mread\u001b[0m\u001b[0;34m(\u001b[0m\u001b[0;34m)\u001b[0m\u001b[0;34m\u001b[0m\u001b[0;34m\u001b[0m\u001b[0m\n",
            "\u001b[0;31mNameError\u001b[0m: name 'urllib' is not defined",
            "\nDuring handling of the above exception, another exception occurred:\n",
            "\u001b[0;31mNameError\u001b[0m                                 Traceback (most recent call last)",
            "\u001b[0;32m<ipython-input-1-aa5c79a0dfca>\u001b[0m in \u001b[0;36m<module>\u001b[0;34m\u001b[0m\n\u001b[1;32m     16\u001b[0m \u001b[0;34m\u001b[0m\u001b[0m\n\u001b[1;32m     17\u001b[0m \u001b[0mwebsite\u001b[0m \u001b[0;34m=\u001b[0m \u001b[0;34m'https://de.wikipedia.org/wiki/Axolotl'\u001b[0m\u001b[0;34m\u001b[0m\u001b[0;34m\u001b[0m\u001b[0m\n\u001b[0;32m---> 18\u001b[0;31m \u001b[0mopen_url\u001b[0m\u001b[0;34m(\u001b[0m\u001b[0mwebsite\u001b[0m\u001b[0;34m)\u001b[0m\u001b[0;34m\u001b[0m\u001b[0;34m\u001b[0m\u001b[0m\n\u001b[0m",
            "\u001b[0;32m<ipython-input-1-aa5c79a0dfca>\u001b[0m in \u001b[0;36mopen_url\u001b[0;34m(url)\u001b[0m\n\u001b[1;32m      6\u001b[0m             \u001b[0mhtml\u001b[0m \u001b[0;34m=\u001b[0m \u001b[0mresponse\u001b[0m\u001b[0;34m.\u001b[0m\u001b[0mread\u001b[0m\u001b[0;34m(\u001b[0m\u001b[0;34m)\u001b[0m\u001b[0;34m\u001b[0m\u001b[0;34m\u001b[0m\u001b[0m\n\u001b[1;32m      7\u001b[0m         \u001b[0mprint\u001b[0m\u001b[0;34m(\u001b[0m\u001b[0mhtml\u001b[0m\u001b[0;34m[\u001b[0m\u001b[0;36m0\u001b[0m\u001b[0;34m:\u001b[0m\u001b[0;36m200\u001b[0m\u001b[0;34m]\u001b[0m\u001b[0;34m)\u001b[0m\u001b[0;34m\u001b[0m\u001b[0;34m\u001b[0m\u001b[0m\n\u001b[0;32m----> 8\u001b[0;31m     \u001b[0;32mexcept\u001b[0m \u001b[0murllib\u001b[0m\u001b[0;34m.\u001b[0m\u001b[0merror\u001b[0m\u001b[0;34m.\u001b[0m\u001b[0mHTTPError\u001b[0m \u001b[0;32mas\u001b[0m \u001b[0me\u001b[0m\u001b[0;34m:\u001b[0m\u001b[0;34m\u001b[0m\u001b[0;34m\u001b[0m\u001b[0m\n\u001b[0m\u001b[1;32m      9\u001b[0m         \u001b[0mprint\u001b[0m\u001b[0;34m(\u001b[0m\u001b[0;34m'The server couldn\\'t fulfill the request.'\u001b[0m\u001b[0;34m)\u001b[0m\u001b[0;34m\u001b[0m\u001b[0;34m\u001b[0m\u001b[0m\n\u001b[1;32m     10\u001b[0m         \u001b[0mprint\u001b[0m\u001b[0;34m(\u001b[0m\u001b[0;34m'Error code: '\u001b[0m\u001b[0;34m,\u001b[0m \u001b[0me\u001b[0m\u001b[0;34m.\u001b[0m\u001b[0mcode\u001b[0m\u001b[0;34m)\u001b[0m\u001b[0;34m\u001b[0m\u001b[0;34m\u001b[0m\u001b[0m\n",
            "\u001b[0;31mNameError\u001b[0m: name 'urllib' is not defined"
          ]
        }
      ],
      "source": [
        "#this works in Pycharm but not here\n",
        "from urllib import request\n",
        "\n",
        "def open_url(url):\n",
        "    try:\n",
        "        with urllib.request.urlopen(url) as response:\n",
        "            html = response.read()\n",
        "        print(html[0:200])\n",
        "    except urllib.error.HTTPError as e:\n",
        "        print('The server couldn\\'t fulfill the request.')\n",
        "        print('Error code: ', e.code)\n",
        "    except urllib.error.URLError as e:\n",
        "        print('We failed to reach a server.')\n",
        "        print('Reason: ', e.reason)\n",
        "    except:\n",
        "        print(\"This doesn't work.\")\n",
        "\n",
        "website = 'https://de.wikipedia.org/wiki/Axolotl'\n",
        "open_url(website)"
      ],
      "metadata": {
        "id": "NaCXxVlB7a-E",
        "colab": {
          "base_uri": "https://localhost:8080/",
          "height": 432
        },
        "outputId": "fc9b8efc-9e2a-4877-a546-2c0128643e13"
      }
    },
    {
      "cell_type": "markdown",
      "source": [
        "## Task 05 – Logging\n",
        "The logging module in Python provides functionality for logging and debugging purposes. Use the logging module to extend the error handling for the function that you implemented to establish a HTTP connection (Task 4). All exceptions thrown by your function shall be logged as errors.\n",
        "\n",
        "To accomplish the task:\n",
        "- write a Python function *init_log(file_name, file_mode, level, format, date_format)* that initializes a custom log file to which all debugging information and errors are appended using a format that includes the date, time, level and the message of the logging event\n",
        "- log occurring errors by calling *logging.error(...)*\n",
        "- close the log after completing your task by calling *logging.shutdown()*\n",
        "\n",
        "If you choose not to complete Tasks 4, test the logging functionality with a few examples of your own."
      ],
      "metadata": {
        "collapsed": false,
        "id": "ogac-RcI7a-F"
      }
    },
    {
      "cell_type": "code",
      "execution_count": null,
      "outputs": [],
      "source": [
        "import urllib\n",
        "from urllib import request\n",
        "import logging\n",
        "\n",
        "\n",
        "def open_url(url):\n",
        "    try:\n",
        "        with urllib.request.urlopen(url) as response:\n",
        "            html = response.read()\n",
        "        print(html[0:200])\n",
        "    except urllib.error.HTTPError as e:\n",
        "        try:\n",
        "            print('Error code: ', e.code)\n",
        "            init_log('app.log', 'w', logging.DEBUG, '%(asctime)s - %(levelname)s - %(message)s', '%Y-%m-%d %H:%M:%S')\n",
        "        except:\n",
        "            logging.error(\"logging error occured\")\n",
        "    except urllib.error.URLError as e:\n",
        "        try:\n",
        "            print('Reason: ', e.reason)\n",
        "            init_log('app.log', 'w', logging.DEBUG, '%(asctime)s - %(levelname)s - %(message)s', '%Y-%m-%d %H:%M:%S')\n",
        "        except:\n",
        "            logging.error(\"logging error occured\")\n",
        "    except:\n",
        "        try:\n",
        "            print(\"This doesn't work.\")\n",
        "            init_log('app.log', 'w', logging.DEBUG, '%(asctime)s - %(levelname)s - %(message)s', '%Y-%m-%d %H:%M:%S')\n",
        "        except:\n",
        "            logging.error(\"logging error occured\")\n",
        "\n",
        "\n",
        "\n",
        "def init_log(file_name, file_mode, level, format, date_format):\n",
        "    logging.basicConfig(filename=file_name, filemode=file_mode, format=format, level=level, datefmt=date_format)\n",
        "    logging.exception(\"Error occurred\")\n",
        "    console = logging.StreamHandler()\n",
        "    console.setLevel(logging.DEBUG)\n",
        "    logging.shutdown()\n",
        "\n",
        "\n",
        "\n",
        "website = 'https://de.wikipedia.org/wiki/Axolot'\n",
        "open_url(website)\n",
        "\n"
      ],
      "metadata": {
        "id": "hT8RvjYU7a-F"
      }
    },
    {
      "cell_type": "markdown",
      "source": [
        "## Task 06 – Download File\n",
        "In Task 4, you used the *urllib* library to establish a http connection. You can also use the *urllib* library to perform simple file downloads.\n",
        "\n",
        "Write a Python function *download_file(url, path)* that:\n",
        "- checks whether the input URL points to a .txt file\n",
        "- if the input URL points to a .txt file, uses the *urllib* library to download and write the text file to the given path on your machine\n",
        "- logs an error “No text file found at given URL, download aborted!” to the log file created in Task 5 if the input URL does not point to a .txt file.\n",
        "- properly handles exceptions\n",
        "\n",
        "Use the *download_file()* function to download William Shakespeare’s drama Macbeth as a plain\n",
        "text file from: [Macbeth](https://ia802707.us.archive.org/1/items/macbeth02264gut/0ws3410.txt)"
      ],
      "metadata": {
        "collapsed": false,
        "id": "FFvlZPUc7a-G"
      }
    },
    {
      "cell_type": "code",
      "execution_count": null,
      "outputs": [],
      "source": [
        "def download_file(url, path):\n",
        "        dir_path = path\n",
        "        file_name = \"mydocument.txt\"\n",
        "        fname = os.path.join(dir_path, file_name)\n",
        "        try:\n",
        "            with open(fname, \"w\") as f:\n",
        "                for line in urllib.request.urlopen(url):\n",
        "                    f.write(str(line))\n",
        "        except:\n",
        "            try:\n",
        "                print(\"No text file found at given URL, download aborted!\")\n",
        "                init_log('app.log', 'w', logging.DEBUG, '%(asctime)s - %(levelname)s - %(message)s', '%Y-%m-%d %H:%M:%S')\n",
        "            except:\n",
        "                logging.error(\"logging error occured\")"
      ],
      "metadata": {
        "id": "3L-DwhcZ7a-G"
      }
    }
  ],
  "metadata": {
    "kernelspec": {
      "display_name": "Python 3",
      "language": "python",
      "name": "python3"
    },
    "language_info": {
      "codemirror_mode": {
        "name": "ipython",
        "version": 2
      },
      "file_extension": ".py",
      "mimetype": "text/x-python",
      "name": "python",
      "nbconvert_exporter": "python",
      "pygments_lexer": "ipython2",
      "version": "2.7.6"
    },
    "colab": {
      "provenance": []
    }
  },
  "nbformat": 4,
  "nbformat_minor": 0
}