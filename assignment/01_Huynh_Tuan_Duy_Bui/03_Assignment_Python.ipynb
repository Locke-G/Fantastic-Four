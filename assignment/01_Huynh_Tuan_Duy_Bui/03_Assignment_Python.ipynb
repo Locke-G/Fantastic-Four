{
 "cells": [
  {
   "cell_type": "markdown",
   "metadata": {
    "id": "3i7Q6MM_7a82"
   },
   "source": [
    "# Assignment 03\n",
    "#### Python Basics III - Functions and Classes\n",
    "\n",
    "This tutorial was written by Terry L. Ruas (University of Göttingen). The references for external contributors for which this material was anyhow adapted/inspired are in the Acknowledgments section (end of the document)."
   ]
  },
  {
   "cell_type": "markdown",
   "metadata": {
    "id": "eKtTDCOS7a83"
   },
   "source": [
    "This notebook will cover the following tasks:\n",
    "\n",
    "1. Dictionary\n",
    "2. Classes"
   ]
  },
  {
   "cell_type": "markdown",
   "metadata": {
    "id": "XumFInmh7a85"
   },
   "source": [
    "## Task 01 – Dictionary\n",
    "Imagine you have to write a (very simple) bookkeepingsystem for a bank that keeps track of the account balances of each of its customers.\n",
    "1. Write a function that spans a dictionary holding a default balance of 0 for an initial list of customers. For simplicity, assume customer names are unique identifier.  (optional) Can you express that same functionality using a lambda function?\n",
    "2. What are elegant ways to add or remove single and multiple customers using the functionality of dict?\n",
    "3. Now write two simple functions that allow you to deposit and withdraw money for a given bank customer.\n",
    "4. Include error messages for inputs that are not permissible, e.g., withdrawing negative amounts or overdrawing the account, etc."
   ]
  },
  {
   "cell_type": "code",
   "execution_count": 17,
   "metadata": {
    "id": "aEr0j2IX7a85"
   },
   "outputs": [],
   "source": [
    "# 1. initialize a list of customers\n",
    "customers = {'David' : 0,\n",
    "            'Mary' : 0,\n",
    "            'Tom' : 0}"
   ]
  },
  {
   "cell_type": "code",
   "execution_count": null,
   "metadata": {},
   "outputs": [],
   "source": [
    "# 2. remove single and multiple customers\n",
    "customers.pop('David')\n",
    "def delete_multiple(bkk=[]):\n",
    "    for name in bkk:\n",
    "        customers.pop(name)\n",
    "    return customers\n",
    "delete_multiple(['David', 'Mary'])"
   ]
  },
  {
   "cell_type": "code",
   "execution_count": 19,
   "metadata": {},
   "outputs": [
    {
     "data": {
      "text/plain": [
       "{'David': 21.0, 'Mary': 0, 'Tom': 0}"
      ]
     },
     "execution_count": 19,
     "metadata": {},
     "output_type": "execute_result"
    }
   ],
   "source": [
    "# 3. functions for deposit and withdraw\n",
    "def deposit(name='', x=0.0):\n",
    "    customers[name] += x\n",
    "    return customers\n",
    "deposit('David', 20.5)\n",
    "\n",
    "def withdraw(name='', x=0.0):\n",
    "    customers[name] -= x\n",
    "    return customers\n",
    "withdraw('David', 10)"
   ]
  },
  {
   "cell_type": "code",
   "execution_count": 25,
   "metadata": {},
   "outputs": [
    {
     "name": "stdout",
     "output_type": "stream",
     "text": [
      "Cannot deposit a negative amount of money\n",
      "Amount of money for withdraw is larger than the balanced amount!\n"
     ]
    }
   ],
   "source": [
    "# 4. including raise error message for deposit and withdraw\n",
    "def deposit(name='', x=0.0):\n",
    "    if x < 0:\n",
    "        return print('Cannot deposit a negative amount of money')\n",
    "    customers[name] += x\n",
    "    return customers\n",
    "deposit('David', -2)\n",
    "\n",
    "def withdraw(name='', x=0.0):  \n",
    "    if x < 0:\n",
    "        return print('Cannot withdraw a negative amount of money')    \n",
    "    if x > customers[name]:\n",
    "        return print('Amount of money for withdraw is larger than the balanced amount!')\n",
    "    customers[name] -= x\n",
    "    return customers\n",
    "withdraw('David', 100)"
   ]
  },
  {
   "cell_type": "markdown",
   "metadata": {
    "id": "9tMOI3tn7a86"
   },
   "source": [
    "## Task 02 – Classes\n",
    "The manager thinks that the simple bookkeeping system you have built is not powerful enough. She requests that you start from scratch and use classes instead.\n",
    "1. Write a simple class with appropriate constructor *\\_\\_init\\_\\_* that initializes an object of class *Customer* tracking the same information as in Task 01.\n",
    "2. Now write two simple methods for class *Customer* that allow you to deposit and withdraw money for a given customer object.\n",
    "3. Include error messages for inputs that are not permissible, e.g., withdrawing negative amounts or overdrawing the account.\n",
    "4. (Inheritance) Write a child class *SavingsCustomer* that inherits its features from the parent class *Customer*. A savings customer has an extra savings balance for receiving extra interest. The class should have a method to transfer money back and forth between the accounts' main balance as well as the savings balance. Do not forget to add reasonable error messages."
   ]
  },
  {
   "cell_type": "code",
   "execution_count": 6,
   "metadata": {
    "id": "mcZ6wBOO7a86"
   },
   "outputs": [
    {
     "name": "stdout",
     "output_type": "stream",
     "text": [
      "30\n",
      "40\n",
      "Not enough money in the account.\n",
      "Mary has 50 in the account\n",
      " Mary's account has interest rate 5.5\n",
      "80\n",
      "84.39999999999999\n"
     ]
    }
   ],
   "source": [
    "class Customer:\n",
    "    \"\"\" A abstract base class of a bank account of a customer. \"\"\"\n",
    "    def __init__(self, customer, balance=0):\n",
    "        \"\"\"\n",
    "        Initialize a bank account with a customer and openening balance\n",
    "        \"\"\"\n",
    "        self.customer = customer\n",
    "        self.balance = balance\n",
    "    def deposit(self, amount):\n",
    "        \"\"\" Deposit amount into the bank account \"\"\"\n",
    "        if amount > 0:\n",
    "            self.balance += amount\n",
    "        else:\n",
    "            print(\"Invalid deposit amount:\", amount)\n",
    "    def withdraw(self, amount):\n",
    "        \"\"\" Withdraw amount from the bank account \"\"\"\n",
    "        if amount > 0:\n",
    "            if amount > self.balance:\n",
    "                print(\"Not enough money in the account.\")\n",
    "            else:\n",
    "                self.balance -= amount\n",
    "        else:\n",
    "            print('Invalid withdrawal amount:', amount)\n",
    "David_account = Customer('David', 30)\n",
    "print(David_account.balance)\n",
    "David_account.deposit(10); print(David_account.balance)\n",
    "David_account.withdraw(50)\n",
    "\n",
    "class SavingsCustomer(Customer):\n",
    "    \"\"\" A class for a savings account \"\"\"\n",
    "    def __init__(self, customer, interest_rate, balance=0):\n",
    "        \"\"\" Initialize the savings account \"\"\"\n",
    "        self.interest_rate = interest_rate\n",
    "        super().__init__(customer, balance)\n",
    "    def add_interest(self):\n",
    "        \"\"\" Add interest to the amount at the interest rate \"\"\"\n",
    "        self.balance *= (1 + self.interest_rate/100)\n",
    "\n",
    "Mary_account = SavingsCustomer('Mary', 5.5, 50)\n",
    "print(f'Mary has {Mary_account.balance} in the account\\n',\n",
    "      f'Mary\\'s account has interest rate {Mary_account.interest_rate}')\n",
    "Mary_account.deposit(30)\n",
    "print(Mary_account.balance)\n",
    "Mary_account.add_interest()\n",
    "print(Mary_account.balance)"
   ]
  }
 ],
 "metadata": {
  "colab": {
   "provenance": []
  },
  "kernelspec": {
   "display_name": "Python 3 (ipykernel)",
   "language": "python",
   "name": "python3"
  },
  "language_info": {
   "codemirror_mode": {
    "name": "ipython",
    "version": 3
   },
   "file_extension": ".py",
   "mimetype": "text/x-python",
   "name": "python",
   "nbconvert_exporter": "python",
   "pygments_lexer": "ipython3",
   "version": "3.10.6"
  }
 },
 "nbformat": 4,
 "nbformat_minor": 4
}
