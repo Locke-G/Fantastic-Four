{
 "cells": [
  {
   "cell_type": "markdown",
   "metadata": {
    "id": "LZgQdr4W6iKz"
   },
   "source": [
    "# Assignment 01\n",
    "##### Python Basics I\n",
    "\n",
    "This tutorial was written by Terry Ruas (University of Göttingen). The references for external contributors for which this material was anyhow adapted/inspired are in the Acknowledgments section (end of the document).\n"
   ]
  },
  {
   "cell_type": "markdown",
   "metadata": {
    "id": "4GPUv_8U6iK1"
   },
   "source": [
    "## Task 01 – Hello World!\n",
    "Write a simple program that asks the user to input a name and outputs a simple greeting, such as ‘Hi Name! Nice to meet you!’ and in the other line, ‘Welcome to the Programing Course!’. \n",
    "\n",
    "*Hint: Check out the input () and print() function in Python.* "
   ]
  },
  {
   "cell_type": "code",
   "execution_count": 5,
   "metadata": {
    "id": "xt3XV0YD6iK2"
   },
   "outputs": [
    {
     "name": "stdin",
     "output_type": "stream",
     "text": [
      "Enter your name: Duy\n"
     ]
    },
    {
     "name": "stdout",
     "output_type": "stream",
     "text": [
      "Hi Duy! Nice to meet you\n"
     ]
    }
   ],
   "source": [
    "name = input(\"Enter your name:\")\n",
    "print(\"Hi {}! Nice to meet you\".format(name))"
   ]
  },
  {
   "cell_type": "markdown",
   "metadata": {
    "id": "_Jz4T4AQ6iK3"
   },
   "source": [
    "## Task 02 – Reversed Words\n",
    "Write a program that reads in a word provided by the user and prints the word in a reversed order. For example, if the input is hello, the output should be ‘olleh’. \n",
    "\n",
    "- Use a loop structure \n",
    "- Use just array indexes \n"
   ]
  },
  {
   "cell_type": "code",
   "execution_count": 28,
   "metadata": {
    "id": "aKLGcZ0_6iK3"
   },
   "outputs": [
    {
     "name": "stdin",
     "output_type": "stream",
     "text": [
      "Enter your word: hello\n"
     ]
    },
    {
     "data": {
      "text/plain": [
       "'olleh'"
      ]
     },
     "execution_count": 28,
     "metadata": {},
     "output_type": "execute_result"
    }
   ],
   "source": [
    "# Use a loop structure\n",
    "word = input(\"Enter your word:\")\n",
    "rese = ''\n",
    "for c in word:\n",
    "    rese = c + rese\n",
    "rese"
   ]
  },
  {
   "cell_type": "code",
   "execution_count": 27,
   "metadata": {},
   "outputs": [
    {
     "name": "stdin",
     "output_type": "stream",
     "text": [
      "Enter your word: hello\n"
     ]
    },
    {
     "data": {
      "text/plain": [
       "'olleh'"
      ]
     },
     "execution_count": 27,
     "metadata": {},
     "output_type": "execute_result"
    }
   ],
   "source": [
    "# Use array indexes\n",
    "word = input(\"Enter your word:\")\n",
    "word[::-1]"
   ]
  },
  {
   "cell_type": "markdown",
   "metadata": {
    "id": "PalhJ9x36iK4"
   },
   "source": [
    "## Task 03 –  Fibonacci Numbers\n",
    "Write a program that reads in an upper bound (number) provided by the user and prints the sequence of Fibonacci numbers that are less or equal to the number given by the user. Use a while-loop for this task. \n",
    "\n",
    "The Fibonacci sequence is defined as \n",
    "$ F_{n}=F_{n−1}+F_{n−2}$. Use $F_{0}=0$ and $F_{1} = 1$ as seed values.  \n",
    "\n",
    "For example, if the user inputs 6, the output should be 0, 1, 1, 2, 3, 5. \n",
    "\n",
    "\n",
    "\n"
   ]
  },
  {
   "cell_type": "code",
   "execution_count": 35,
   "metadata": {
    "id": "vm5UlcKB6iK4"
   },
   "outputs": [
    {
     "name": "stdin",
     "output_type": "stream",
     "text": [
      "Enter an upper bound:  6\n"
     ]
    },
    {
     "name": "stdout",
     "output_type": "stream",
     "text": [
      "0 1  1  2  3  5"
     ]
    }
   ],
   "source": [
    "m = int(input(\"Enter an upper bound: \"))\n",
    "a, b = 0, 1\n",
    "print(a, b, end='')\n",
    "while b <= m:\n",
    "    a, b = b, a+b\n",
    "    if b > m:\n",
    "        break\n",
    "    print(' ', b, end='')"
   ]
  },
  {
   "cell_type": "markdown",
   "metadata": {
    "id": "JV1Mm9qA6iK5"
   },
   "source": [
    "## Task 04 – Selective Printing \n",
    "\n",
    "Write a program that reads in an upper bound (number) provided by the user and prints all integer numbers that are less or equal to the upper bound except the integer numbers that are divisible by 3. Use the continue statement. For example, if the user enters 6 as the upper bound, the output should be 0, 1, 2, 4, 5.  "
   ]
  },
  {
   "cell_type": "code",
   "execution_count": 43,
   "metadata": {
    "id": "C3i7ctus6iK6",
    "tags": []
   },
   "outputs": [
    {
     "name": "stdin",
     "output_type": "stream",
     "text": [
      "Enter an upper bound:  9\n"
     ]
    },
    {
     "name": "stdout",
     "output_type": "stream",
     "text": [
      "0 1 2 4 5 7 8 "
     ]
    }
   ],
   "source": [
    "m = int(input(\"Enter an upper bound: \"))\n",
    "i = 0\n",
    "while i <= m:\n",
    "    if (i % 3 == 0) and (i != 0):\n",
    "        i += 1\n",
    "        continue\n",
    "    print(i, end=' ')\n",
    "    i += 1"
   ]
  },
  {
   "cell_type": "markdown",
   "metadata": {
    "id": "qz4P36Lz6iK6"
   },
   "source": [
    "## Task 05 – Triangle Checking   \n",
    "\n",
    "Write a Python program that asks the user to input the lengths of the sides in a triangle and outputs whether the triangle is equilateral, isosceles, or scalene. The program should also check for the Triangle inequality $(z < x + y)$,  and prompt the user for a valid input. \n",
    "\n",
    "- An equilateral triangle is a triangle in which all three sides are of equal length. \n",
    "- An isosceles triangle is a triangle with (at least) two sides of equal length. \n",
    "- A scalene triangle is a triangle in which all three sides have different lengths. \n",
    "\n",
    "For example, if the user inputs a=3, b=4, c=5, the triangle is scalene. \n"
   ]
  },
  {
   "cell_type": "code",
   "execution_count": 51,
   "metadata": {
    "id": "2c67p_Zc6iK7"
   },
   "outputs": [
    {
     "name": "stdin",
     "output_type": "stream",
     "text": [
      "Enter the length of the first side of the triangle:  3\n",
      "Enter the length of the second side of the triangle:  3\n",
      "Enter the length of the third side of the triangle:  3\n"
     ]
    },
    {
     "name": "stdout",
     "output_type": "stream",
     "text": [
      "The triangle is equilateral\n"
     ]
    }
   ],
   "source": [
    "a = int(input(\"Enter the length of the first side of the triangle: \"))\n",
    "b = int(input(\"Enter the length of the second side of the triangle: \"))\n",
    "c = int(input(\"Enter the length of the third side of the triangle: \"))\n",
    "\n",
    "if a == b == c:\n",
    "    print(\"The triangle is equilateral\")\n",
    "elif a!= b != c != a:\n",
    "    print(\"The triangle is scalene\")\n",
    "else:\n",
    "    print(\"The triangle is isosceles\")"
   ]
  },
  {
   "cell_type": "markdown",
   "metadata": {
    "id": "k1kh3odh6iK7"
   },
   "source": [
    "## Task 06 – Decimal to Octal Conversion \n",
    "\n",
    "Write a program that reads a non-negative integer number in the decimal representation provided by the user and prints the octal representation of the number. For example, if the user enters 167, the output should be 247.  \n",
    "\n",
    "Write a more general program that reads in a non-negative number (potentially including decimal places) in the decimal representation provided by the user and prints the octal representation of the number. For example, if the user enters 25.11, the output should be 31.0702436560507534. "
   ]
  },
  {
   "cell_type": "code",
   "execution_count": 60,
   "metadata": {
    "id": "2-UCbTRQ6iK7"
   },
   "outputs": [
    {
     "name": "stdin",
     "output_type": "stream",
     "text": [
      "Enter an non-negative integer number:  167\n"
     ]
    },
    {
     "name": "stdout",
     "output_type": "stream",
     "text": [
      "The octal number of 167 is 247\n"
     ]
    }
   ],
   "source": [
    "number = int(input(\"Enter an non-negative integer number: \"))\n",
    "octal = 0\n",
    "ctr = 0\n",
    "temp = number\n",
    "while(temp > 0):\n",
    "    octal += (temp%8)*(10**ctr) \n",
    "    temp = int(temp/8)\n",
    "    ctr += 1\n",
    "print(\"The octal number of {} is {}\".format(number, octal))"
   ]
  },
  {
   "cell_type": "code",
   "execution_count": null,
   "metadata": {},
   "outputs": [],
   "source": []
  },
  {
   "cell_type": "markdown",
   "metadata": {
    "id": "Wl9JCEYM6iK-"
   },
   "source": [
    "## Acknowledgements\n",
    "\n",
    "Redmond, Hsu, Saini, Gupta, Ramsey, Kondrich, Capoor, Cohen, Borus, Kincaid, Malik, and many others. - Stanford CS41"
   ]
  }
 ],
 "metadata": {
  "colab": {
   "collapsed_sections": [],
   "provenance": []
  },
  "kernelspec": {
   "display_name": "Python 3 (ipykernel)",
   "language": "python",
   "name": "python3"
  },
  "language_info": {
   "codemirror_mode": {
    "name": "ipython",
    "version": 3
   },
   "file_extension": ".py",
   "mimetype": "text/x-python",
   "name": "python",
   "nbconvert_exporter": "python",
   "pygments_lexer": "ipython3",
   "version": "3.10.6"
  }
 },
 "nbformat": 4,
 "nbformat_minor": 4
}
