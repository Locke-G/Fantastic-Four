{
 "cells": [
  {
   "cell_type": "code",
   "execution_count": 102,
   "id": "a2dbf10d-ab0a-4836-83c2-1480300cc405",
   "metadata": {},
   "outputs": [],
   "source": [
    "# Input data\n",
    "import pandas as pd\n",
    "data = pd.read_csv('chartIn.txt', sep='\\t', index_col=0)"
   ]
  },
  {
   "cell_type": "code",
   "execution_count": 103,
   "id": "345ada42-dcfd-451f-bbd8-333d932367e5",
   "metadata": {},
   "outputs": [
    {
     "name": "stdout",
     "output_type": "stream",
     "text": [
      "A B C | | D E F \n",
      "A B C | | D E F \n",
      "A B C | | D E F \n",
      "A B C | | D E F \n",
      "A B C | | D E F \n",
      "A B C | | D E F \n",
      "A B C | | D E F \n",
      "A B C | | D E F \n",
      "A B C | | D E F \n",
      "A B C | | D E F \n"
     ]
    }
   ],
   "source": [
    "# Display Seats\n",
    "def display_seat():\n",
    "    for i in range(1, len(data.index)+1):\n",
    "        k = 1\n",
    "        for j in data.columns:\n",
    "            print(data.loc[i, j], end=' ')\n",
    "            if k == len(data.columns) // 2:\n",
    "                print('|', '|', end=' ')\n",
    "            k += 1\n",
    "        print()\n",
    "display_seat()"
   ]
  },
  {
   "cell_type": "code",
   "execution_count": 109,
   "id": "a9df52af-9500-4429-87c5-f5a7e8e0037a",
   "metadata": {},
   "outputs": [
    {
     "name": "stdin",
     "output_type": "stream",
     "text": [
      "Enter your choice of a seat: 3a\n"
     ]
    },
    {
     "name": "stdout",
     "output_type": "stream",
     "text": [
      "A B C | | D E F \n",
      "A B C | | D X F \n",
      "X B C | | D E F \n",
      "A B C | | D E F \n",
      "A B C | | D E F \n",
      "A B C | | D E F \n",
      "A B C | | D E F \n",
      "A B C | | D E F \n",
      "A B C | | D E F \n",
      "A B C | | D E F \n"
     ]
    }
   ],
   "source": [
    "# Reserving Seats\n",
    "def reserve_seat(choice):\n",
    "    data.loc[int(choice[0])][choice[1]] = 'X'\n",
    "choice = input(\"Enter your choice of a seat:\").upper()\n",
    "choice = list(choice)\n",
    "reserve_seat(choice)\n",
    "display_seat()"
   ]
  },
  {
   "cell_type": "code",
   "execution_count": null,
   "id": "0bbd4cd1-b427-4ec4-8ba7-81bdcd39973c",
   "metadata": {},
   "outputs": [],
   "source": [
    "# Statistics\n",
    "import math\n",
    "## Number and percentage of available seats\n",
    "num_availabe_seats = sum(data.describe().loc['freq'])\n",
    "per_availabe_seats = num_availabe_seats / math.prod(data.shape)\n",
    "## Number and percentage of reserved seats\n",
    "num_reserved_seats = math.prod(data.shape) - sum(data.describe().loc['freq'])\n",
    "per_reserved_seats = num_reserved_seats / math.prod(data.shape)"
   ]
  },
  {
   "cell_type": "code",
   "execution_count": null,
   "id": "e80960e2-f1ef-4e8d-8603-46836f6f820f",
   "metadata": {},
   "outputs": [],
   "source": []
  },
  {
   "cell_type": "code",
   "execution_count": null,
   "id": "05c7b750-03b2-4f8d-a800-fe89b6a951ba",
   "metadata": {},
   "outputs": [],
   "source": []
  }
 ],
 "metadata": {
  "kernelspec": {
   "display_name": "Python 3 (ipykernel)",
   "language": "python",
   "name": "python3"
  },
  "language_info": {
   "codemirror_mode": {
    "name": "ipython",
    "version": 3
   },
   "file_extension": ".py",
   "mimetype": "text/x-python",
   "name": "python",
   "nbconvert_exporter": "python",
   "pygments_lexer": "ipython3",
   "version": "3.10.6"
  }
 },
 "nbformat": 4,
 "nbformat_minor": 5
}
