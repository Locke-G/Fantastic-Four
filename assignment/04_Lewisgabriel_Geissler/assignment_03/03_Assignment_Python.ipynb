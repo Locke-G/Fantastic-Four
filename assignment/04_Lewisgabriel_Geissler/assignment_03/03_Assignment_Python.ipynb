{
 "cells": [
  {
   "cell_type": "markdown",
   "source": [
    "# Assignment 03\n",
    "#### Python Basics III - Functions and Classes\n",
    "\n",
    "This tutorial was written by Terry L. Ruas (University of Göttingen). The references for external contributors for which this material was anyhow adapted/inspired are in the Acknowledgments section (end of the document)."
   ],
   "metadata": {
    "collapsed": false,
    "id": "3i7Q6MM_7a82"
   }
  },
  {
   "cell_type": "markdown",
   "source": [
    "This notebook will cover the following tasks:\n",
    "\n",
    "1. Dictionary\n",
    "2. Classes"
   ],
   "metadata": {
    "collapsed": false,
    "id": "eKtTDCOS7a83"
   }
  },
  {
   "cell_type": "markdown",
   "source": [
    "## Task 01 – Dictionary\n",
    "Imagine you have to write a (very simple) bookkeepingsystem for a bank that keeps track of the account balances of each of its customers.\n",
    "1. Write a function that spans a dictionary holding a default balance of 0 for an initial list of customers. For simplicity, assume customer names are unique identifier.  (optional) Can you express that same functionality using a lambda function?\n",
    "2. What are elegant ways to add or remove single and multiple customers using the functionality of dict?\n",
    "3. Now write two simple functions that allow you to deposit and withdraw money for a given bank customer.\n",
    "4. Include error messages for inputs that are not permissible, e.g., withdrawing negative amounts or overdrawing the account, etc."
   ],
   "metadata": {
    "collapsed": false,
    "id": "XumFInmh7a85"
   }
  },
  {
   "cell_type": "code",
   "execution_count": 1,
   "outputs": [
    {
     "name": "stdout",
     "output_type": "stream",
     "text": [
      "{'Alice': 0, 'Charles': 0, 'Sarah': 0}\n"
     ]
    }
   ],
   "source": [
    "#1 Create initial list of Customers\n",
    "initial_customers = ['Alice', 'Charles', 'Sarah']\n",
    "\n",
    "def Create_init_Dict(name):\n",
    "    customers_dict  = dict.fromkeys(name, 0)\n",
    "    return customers_dict\n",
    "\n",
    "customers_dict = Create_init_Dict(initial_customers)\n",
    "print(customers_dict)\n"
   ],
   "metadata": {
    "collapsed": false
   }
  },
  {
   "cell_type": "code",
   "execution_count": 2,
   "outputs": [
    {
     "name": "stdout",
     "output_type": "stream",
     "text": [
      "Alice already exits.\n",
      "{'Alice': 0, 'Charles': 0, 'Sarah': 0, 'Tobi': 0}\n",
      "Sam does not exist and therefor cannot be removed.\n",
      "{'Alice': 0, 'Charles': 0, 'Sarah': 0}\n"
     ]
    }
   ],
   "source": [
    "#2 Add or Remove users using dict funcionality\n",
    "\n",
    "def Add_Customer(customers_dict,names):\n",
    "    for x in names:\n",
    "        if x in customers_dict:\n",
    "            print(x ,'already exits.')\n",
    "        else:\n",
    "            customers_dict[x] = customers_dict.get(x, 0)\n",
    "    print(customers_dict)\n",
    "\n",
    "Add_Customer(customers_dict,['Alice', 'Tobi'])\n",
    "\n",
    "def Remove_Customer(customers_dict,names):\n",
    "    for x in names:\n",
    "        if x in customers_dict:\n",
    "            del customers_dict[x]\n",
    "        else:\n",
    "            print(x ,'does not exist and therefor cannot be removed.')\n",
    "    print(customers_dict)\n",
    "\n",
    "Remove_Customer(customers_dict,['Sam', 'Tobi'])"
   ],
   "metadata": {
    "collapsed": false
   }
  },
  {
   "cell_type": "code",
   "execution_count": 10,
   "outputs": [
    {
     "name": "stdout",
     "output_type": "stream",
     "text": [
      "New Balance after deposit Sarah : 20.0\n",
      "You cannot overdraw your account you broke pleb.\n",
      "New Balance after withdrawal Charles : 0.0\n"
     ]
    }
   ],
   "source": [
    "#3 Withdraw Diposit Money\n",
    "def Withdraw_Money(customers_dict):\n",
    "    while True:\n",
    "        name  = str(input('Please enter your Name :'))\n",
    "        #Checks if name is within the dict. dict is case-sensitive!!!\n",
    "        if name in customers_dict:\n",
    "            try:\n",
    "                amount = float(input('Please Enter the amount you wish to withdraw:'))\n",
    "                #Checks if amount is positive or a number\n",
    "                if amount < 0:\n",
    "                    print('You can only withdraw positive amount of money. Please try again.')\n",
    "                break\n",
    "            except ValueError:\n",
    "                print('Please Enter a number.')\n",
    "            break\n",
    "        #If name is not within the dict the following statement is returned\n",
    "        else:\n",
    "            print(name ,'does not exist. Please enter a valid User.')\n",
    "        break\n",
    "    #Once name and amount have passed the validation the new balance is returned but cannot be <0\n",
    "    balance_new = customers_dict[name] - amount\n",
    "    if balance_new < 0:\n",
    "        print('You cannot overdraw your account you broke pleb.')\n",
    "    else:\n",
    "        customers_dict[name] = customers_dict[name] - amount\n",
    "    print('New Balance after withdrawal', name, ':', customers_dict[name])\n",
    "\n",
    "\n",
    "\n",
    "\n",
    "def Deposit_Money(customers_dict):\n",
    "    while True:\n",
    "        name  = str(input('Please enter your Name :'))\n",
    "        #Checks if name is within the dict. dict is case-sensitive!!!\n",
    "        if name in customers_dict:\n",
    "            try:\n",
    "                amount = float(input('Please Enter the amount you wish to deposit:'))\n",
    "                #Checks if amount is positive or a number\n",
    "                if amount < 0:\n",
    "                    print('You cannot deposit negative amount of money. Please try again.')\n",
    "                break\n",
    "            except ValueError:\n",
    "                print('Please Enter a number.')\n",
    "            break\n",
    "        #If name is not within the dict the following statement is returned\n",
    "        else:\n",
    "            print(name ,'does not exist. Please enter a valid User.')\n",
    "        break\n",
    "    #Once name and amount have passed the validation the new balance is returned but cannot be <0\n",
    "    customers_dict[name] = customers_dict[name] + amount\n",
    "    print('New Balance after deposit',name, ':', customers_dict[name])\n",
    "\n",
    "Deposit_Money(customers_dict)\n",
    "Withdraw_Money(customers_dict)"
   ],
   "metadata": {
    "collapsed": false
   }
  },
  {
   "cell_type": "markdown",
   "source": [
    "## Task 02 – Classes\n",
    "The manager thinks that the simple bookkeeping system you have built is not powerful enough. She requests that you start from scratch and use classes instead.\n",
    "1. Write a simple class with appropriate constructor *\\_\\_init\\_\\_* that initializes an object of class *Customer* tracking the same information as in Task 01.\n",
    "2. Now write two simple methods for class *Customer* that allow you to deposit and withdraw money for a given customer object.\n",
    "3. Include error messages for inputs that are not permissible, e.g., withdrawing negative amounts or overdrawing the account.\n",
    "4. (Inheritance) Write a child class *SavingsCustomer* that inherits its features from the parent class *Customer*. A savings customer has an extra savings balance for receiving extra interest. The class should have a method to transfer money back and forth between the accounts' main balance as well as the savings balance. Do not forget to add reasonable error messages."
   ],
   "metadata": {
    "collapsed": false,
    "id": "9tMOI3tn7a86"
   }
  },
  {
   "cell_type": "code",
   "execution_count": 19,
   "outputs": [],
   "source": [
    "class customer:\n",
    "    def __init__(self, Cname, Cbalance=0):\n",
    "        self.customername = Cname\n",
    "        self.customerbalance = Cbalance\n",
    "\n",
    "    def __repr__(self):\n",
    "        return f'Account Info: \\n Name: {self.customername}, balance: {self.customerbalance} $'\n",
    "\n",
    "    def diposit(self, money):\n",
    "            if (type(money) == int or type(money) == float) and money > 0:\n",
    "                self.customerbalance += money\n",
    "            else:\n",
    "                print('Invalid Input. Try again.')\n",
    "\n",
    "    def withdraw(self, money):\n",
    "        if (type(money) == int or type(money) == float) and money > 0:\n",
    "            if self.customerbalance - money > 0:\n",
    "                self.customerbalance -= money\n",
    "            else:\n",
    "                print('Insufficient balance.')\n",
    "pass"
   ],
   "metadata": {
    "collapsed": false
   }
  },
  {
   "cell_type": "code",
   "execution_count": 20,
   "outputs": [],
   "source": [
    "cus_1 = customer('Sam')\n",
    "cus_2 = customer('Alice')"
   ],
   "metadata": {
    "collapsed": false
   }
  },
  {
   "cell_type": "code",
   "execution_count": 21,
   "outputs": [
    {
     "name": "stdout",
     "output_type": "stream",
     "text": [
      "Account Info: \n",
      " Name: Sam, balance: 5 $\n",
      "Insufficient balance.\n",
      "Account Info: \n",
      " Name: Alice, balance: 0 $\n"
     ]
    }
   ],
   "source": [
    "cus_1.diposit(5)\n",
    "print(repr(cus_1))\n",
    "\n",
    "cus_2.withdraw(5)\n",
    "print(repr(cus_2))"
   ],
   "metadata": {
    "collapsed": false
   }
  },
  {
   "cell_type": "code",
   "execution_count": 23,
   "outputs": [],
   "source": [
    "class Inheritance(customer):\n",
    "    def __int__(self, Cname, Cbalance):\n",
    "        super().__init__(self, Cname, Cbalance)\n",
    "        self.savingbalance = Sbalance\n",
    "        self.SavingInterest = interest\n",
    "\n",
    "    def __repr__(self):\n",
    "        return f'Account Info: \\n Name: {self.customername}, balance: {self.customerbalance} $ \\n Savings Account: {self.savingbalance}, Interest {self.SavingInterest}'\n",
    "\n",
    "    def interest(self):\n",
    "        self.savingbalance *= (1 + self.interest/100)\n",
    "\n",
    "    def transfer_money(self, money, action):\n",
    "        if (type(money) != int or type(money) != float) and money < 0:\n",
    "            print('Invalid Input. Try again.')\n",
    "        if action == 'send':\n",
    "            if money > self.customerbalance:\n",
    "                print('Not enougn fund to transfer to Savings Account.')\n",
    "            else:\n",
    "                self.customerbalance -= money\n",
    "                self.savingbalance += money\n",
    "                #interest(self)\n",
    "        if action =='return'\n",
    "            if money > self\n",
    "pass"
   ],
   "metadata": {
    "collapsed": false
   }
  },
  {
   "cell_type": "markdown",
   "source": [],
   "metadata": {
    "collapsed": false
   }
  }
 ],
 "metadata": {
  "kernelspec": {
   "display_name": "Python 3",
   "language": "python",
   "name": "python3"
  },
  "language_info": {
   "codemirror_mode": {
    "name": "ipython",
    "version": 2
   },
   "file_extension": ".py",
   "mimetype": "text/x-python",
   "name": "python",
   "nbconvert_exporter": "python",
   "pygments_lexer": "ipython2",
   "version": "2.7.6"
  },
  "colab": {
   "provenance": []
  }
 },
 "nbformat": 4,
 "nbformat_minor": 0
}
