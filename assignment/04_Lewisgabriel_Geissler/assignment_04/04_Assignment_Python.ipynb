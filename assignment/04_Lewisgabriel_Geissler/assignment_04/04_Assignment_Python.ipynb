{
 "cells": [
  {
   "cell_type": "markdown",
   "source": [
    "# Assignment 04\n",
    "#### Python Basics IV - Functions, Unity Testing, and Logging\n",
    "\n",
    "This tutorial was written by Terry L. Ruas (University of Göttingen). The references for external contributors for which this material was anyhow adapted/inspired are in the Acknowledgments section (end of the document)."
   ],
   "metadata": {
    "collapsed": false,
    "id": "_ikvQGPR7a99"
   }
  },
  {
   "cell_type": "markdown",
   "source": [
    "This notebook will cover the following tasks:\n",
    "\n",
    "1. Lambda functions\n",
    "2. List comprehensions\n",
    "3. Unity Test\n",
    "4. HTTP Request\n",
    "5. Logging\n",
    "6. Download File"
   ],
   "metadata": {
    "collapsed": false,
    "id": "SchiSV187a9-"
   }
  },
  {
   "cell_type": "markdown",
   "source": [
    "## Task 01 – Lambda functions\n",
    "Python supports lambda functions as a handy way to define small, anonymous, i.e., unnamed, functions inline. The basic syntax for lambda functions is:\n",
    "$$\n",
    " \\textbf{lambda}\\text{ parameter1, parameter2, ... : }\\textbf{expression}\n",
    "$$\n",
    "Use a lambda function only to retain the even values in an array of integers. Test your function with an input array of your choosing. Print the input array and the filtered output array to stdout."
   ],
   "metadata": {
    "collapsed": false,
    "id": "QOoNCxgu7a-A"
   }
  },
  {
   "cell_type": "markdown",
   "source": [],
   "metadata": {
    "collapsed": false
   }
  },
  {
   "cell_type": "code",
   "execution_count": 16,
   "outputs": [
    {
     "name": "stdout",
     "output_type": "stream",
     "text": [
      "[600 115 747 569 132 238 432  76 258 905 998 360  73 360 791 619 619 791\n",
      " 701   1]\n",
      "[600, 132, 238, 432, 76, 258, 998, 360, 360]\n"
     ]
    },
    {
     "data": {
      "text/plain": "45"
     },
     "execution_count": 16,
     "metadata": {},
     "output_type": "execute_result"
    }
   ],
   "source": [
    "from numpy import random\n",
    "import sys\n",
    "\n",
    "num = random.randint(1000, size=(20))\n",
    "sys.stdout.write(str(num) + '\\n')\n",
    "\n",
    "even_num = list(filter(lambda x: x%2 == 0, num))\n",
    "sys.stdout.write(str(even_num) + '\\n')\n"
   ],
   "metadata": {
    "id": "5keoJAOw7a-B"
   }
  },
  {
   "cell_type": "markdown",
   "source": [
    "## Task 02 – List comprehensions\n",
    "Python supports list comprehension. The basic syntax of list comprehensions is:\n",
    "$$\n",
    "\\text{L = [<elem> for <elem> <Condition>]}\n",
    "$$\n",
    "Use list comprehensions to write a Python function *remove_long_words()* that:\n",
    "- accepts a sentence s and an integer n as input parameters\n",
    "- uses the *split()* function of String objects to split the sentence into words\n",
    "- stores the individual words in a list\n",
    "- removes all words that are longer than n characters from the list, thereby creating a new list\n",
    "- prints the list to stdout"
   ],
   "metadata": {
    "collapsed": false,
    "id": "XSyLzHT17a-B"
   }
  },
  {
   "cell_type": "code",
   "execution_count": 25,
   "outputs": [
    {
     "name": "stdout",
     "output_type": "stream",
     "text": [
      "['my', 'name', 'is']\n"
     ]
    }
   ],
   "source": [
    "import sys\n",
    "\n",
    "def remove_long_word():\n",
    "    s = str(input('Enter a sentence'))\n",
    "    n = int(input('Enter a integer'))\n",
    "    words = s.split()\n",
    "    len_word = [word for word in words if len(word) < n]\n",
    "    sys.stdout.write(str(len_word) + '\\n')\n",
    "\n",
    "remove_long_word()"
   ],
   "metadata": {
    "id": "hT-mGe_T7a-B"
   }
  },
  {
   "cell_type": "markdown",
   "source": [
    "## Task 03 – Unity Test\n",
    "The following algorithm in Python converts numbers in decimal representation to binary.\n",
    "1. Develop a unit test that checks for values in the interval \\[-1,3\\] whether the algorithm returns the\n",
    "expected results.\n",
    "2. Adjust the algorithm, so it passes the unit test developed in 1). Rename the function to\n",
    "*decimal_to_binary_correct()*"
   ],
   "metadata": {
    "collapsed": false,
    "id": "_QHEBddh7a-C"
   }
  },
  {
   "cell_type": "code",
   "execution_count": 36,
   "outputs": [],
   "source": [
    "import math\n",
    "def decimal2binary(n):\n",
    "    # function to convert decimal integers to binary\n",
    "    x = []\n",
    "    while n > 0:\n",
    "        x.append(n % 2)\n",
    "        n = math.floor(n/2)\n",
    "    return x[::-1]\n",
    "\n"
   ],
   "metadata": {
    "id": "IdFKIU4u7a-C"
   }
  },
  {
   "cell_type": "code",
   "execution_count": 42,
   "outputs": [
    {
     "name": "stderr",
     "output_type": "stream",
     "text": [
      ".F\n",
      "======================================================================\n",
      "FAIL: test_decimal2binary (__main__.testdecimal2binary)\n",
      "----------------------------------------------------------------------\n",
      "Traceback (most recent call last):\n",
      "  File \"C:\\Users\\gabri\\AppData\\Local\\Temp\\ipykernel_13564\\2331630420.py\", line 23, in test_decimal2binary\n",
      "    self.assertEqual(result, [1, 0, 1])\n",
      "AssertionError: Lists differ: [1, 1] != [1, 0, 1]\n",
      "\n",
      "First differing element 1:\n",
      "1\n",
      "0\n",
      "\n",
      "Second list contains 1 additional elements.\n",
      "First extra element 2:\n",
      "1\n",
      "\n",
      "- [1, 1]\n",
      "+ [1, 0, 1]\n",
      "?     +++\n",
      "\n",
      "\n",
      "----------------------------------------------------------------------\n",
      "Ran 2 tests in 0.001s\n",
      "\n",
      "FAILED (failures=1)\n"
     ]
    }
   ],
   "source": [
    "import  unittest\n",
    "\n",
    "class testdecimal2binary(unittest.TestCase):\n",
    "    def test_decimal2binary(self):\n",
    "        #first case -1\n",
    "        result = decimal2binary(-1)\n",
    "        self.assertEqual(result, [])\n",
    "\n",
    "        #second case 0\n",
    "        result = decimal2binary(0)\n",
    "        self.assertEqual(result, [])\n",
    "\n",
    "        #third case 1\n",
    "        result = decimal2binary(1)\n",
    "        self.assertEqual(result, [1])\n",
    "\n",
    "        #forth case 2\n",
    "        result = decimal2binary(2)\n",
    "        self.assertEqual(result, [1, 0])\n",
    "\n",
    "        #second case 3\n",
    "        result = decimal2binary(3)\n",
    "        self.assertEqual(result, [1, 0, 1])\n",
    "\n",
    "if __name__ == '__main__':\n",
    "    unittest.main(argv=['first-arg-is-ignored'], exit=False)"
   ],
   "metadata": {
    "collapsed": false
   }
  },
  {
   "cell_type": "markdown",
   "source": [
    "## Task 04 – HTTP Request\n",
    "Working with HTTP connections is essential for many data gathering tasks. The Python library *urllib* provides all functionality we need.\n",
    "Write a Python function *open_url(url)* that:\n",
    "- uses urllib to establish a HTTP connection to an arbitrary website\n",
    "- retrieves and prints the first 200 characters of the html resource, i.e. the html source code, of the chosen website\n",
    "- handles the exceptions thrown by the *urllib.request* function\n",
    "\n",
    "FYI: The basic syntax for exception handling in Python is as follows:\n",
    "```\n",
    "try:\n",
    "    ...\n",
    "    return ...\n",
    "except SomeError1 as e:\n",
    "    # error-specific exception handling\n",
    "except SomeError2 as e:\n",
    "    # error-specific exception handling\n",
    "except\n",
    "    # general exception handling\n",
    "```"
   ],
   "metadata": {
    "collapsed": false,
    "id": "iNLOQ5y47a-E"
   }
  },
  {
   "cell_type": "code",
   "execution_count": 4,
   "outputs": [
    {
     "name": "stdout",
     "output_type": "stream",
     "text": [
      "200\n"
     ]
    },
    {
     "data": {
      "text/plain": "(b'<!doctype html>\\n<!--[if lt IE 7]>   <html class=\"no-js ie6 lt-ie7 lt-ie8 lt-ie9\">   <![endif]-->\\n<!--[if IE 7]>      <html class=\"no-js ie7 lt-ie8 lt-ie9\">          <![endif]-->\\n<!--[if IE 8]>      <h',\n <http.client.HTTPResponse at 0x1e7e42f1250>)"
     },
     "execution_count": 4,
     "metadata": {},
     "output_type": "execute_result"
    }
   ],
   "source": [
    "from urllib.error import HTTPError, URLError\n",
    "from urllib.request import urlopen, Request\n",
    "import ssl\n",
    "\n",
    "def open_url(url, headers=None):\n",
    "    #ignores known bad SSL certificate\n",
    "    unverified_context = ssl._create_unverified_context()\n",
    "    #circumvents that the request is blocked and User-Agent is\n",
    "    #not Python-urllib/3.xx and recognized as a webscrapper\n",
    "    #tldr Error 401 and 403 bypass\n",
    "    request = Request(url, headers=headers or {})\n",
    "    try:\n",
    "        with urlopen(request, timeout=10) as response:\n",
    "            print(response.status)\n",
    "            return urlopen(url, context=unverified_context).read(200), response\n",
    "    except HTTPError as error:\n",
    "        print(error.status, error.reason)\n",
    "    except URLError as error:\n",
    "        print(error.reason)\n",
    "    except TimeoutError:\n",
    "        print(\"Request timed out\")\n",
    "\n",
    "\n",
    "\n",
    "open_url('http://python.org/')\n"
   ],
   "metadata": {
    "id": "NaCXxVlB7a-E"
   }
  },
  {
   "cell_type": "code",
   "execution_count": null,
   "outputs": [],
   "source": [],
   "metadata": {
    "collapsed": false
   }
  },
  {
   "cell_type": "markdown",
   "source": [
    "## Task 05 – Logging\n",
    "The logging module in Python provides functionality for logging and debugging purposes. Use the logging module to extend the error handling for the function that you implemented to establish a HTTP connection (Task 4). All exceptions thrown by your function shall be logged as errors.\n",
    "\n",
    "To accomplish the task:\n",
    "- write a Python function *init_log(file_name, file_mode, level, format, date_format)* that initializes a custom log file to which all debugging information and errors are appended using a format that includes the date, time, level and the message of the logging event\n",
    "- log occurring errors by calling *logging.error(...)*\n",
    "- close the log after completing your task by calling *logging.shutdown()*\n",
    "\n",
    "If you choose not to complete Tasks 4, test the logging functionality with a few examples of your own."
   ],
   "metadata": {
    "collapsed": false,
    "id": "ogac-RcI7a-F"
   }
  },
  {
   "cell_type": "code",
   "execution_count": null,
   "outputs": [],
   "source": [],
   "metadata": {
    "id": "hT8RvjYU7a-F"
   }
  },
  {
   "cell_type": "markdown",
   "source": [
    "## Task 06 – Download File\n",
    "In Task 4, you used the *urllib* library to establish a http connection. You can also use the *urllib* library to perform simple file downloads.\n",
    "\n",
    "Write a Python function *download_file(url, path)* that:\n",
    "- checks whether the input URL points to a .txt file\n",
    "- if the input URL points to a .txt file, uses the *urllib* library to download and write the text file to the given path on your machine\n",
    "- logs an error “No text file found at given URL, download aborted!” to the log file created in Task 5 if the input URL does not point to a .txt file.\n",
    "- properly handles exceptions\n",
    "\n",
    "Use the *download_file()* function to download William Shakespeare’s drama Macbeth as a plain\n",
    "text file from: [Macbeth](https://ia802707.us.archive.org/1/items/macbeth02264gut/0ws3410.txt)"
   ],
   "metadata": {
    "collapsed": false,
    "id": "FFvlZPUc7a-G"
   }
  },
  {
   "cell_type": "code",
   "execution_count": null,
   "outputs": [],
   "source": [],
   "metadata": {
    "id": "3L-DwhcZ7a-G"
   }
  }
 ],
 "metadata": {
  "kernelspec": {
   "display_name": "Python 3",
   "language": "python",
   "name": "python3"
  },
  "language_info": {
   "codemirror_mode": {
    "name": "ipython",
    "version": 2
   },
   "file_extension": ".py",
   "mimetype": "text/x-python",
   "name": "python",
   "nbconvert_exporter": "python",
   "pygments_lexer": "ipython2",
   "version": "2.7.6"
  },
  "colab": {
   "provenance": []
  }
 },
 "nbformat": 4,
 "nbformat_minor": 0
}
