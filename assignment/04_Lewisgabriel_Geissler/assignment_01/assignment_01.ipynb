{
 "cells": [
  {
   "cell_type": "markdown",
   "metadata": {},
   "source": [
    "Task 01 - KCCS  "
   ]
  },
  {
   "cell_type": "code",
   "execution_count": 9,
   "metadata": {},
   "outputs": [
    {
     "name": "stdout",
     "output_type": "stream",
     "text": [
      "Hi, Gabriel! Nice to meet you! \n",
      " Welcome to the Programming Course.\n"
     ]
    }
   ],
   "source": [
    "name = input(\"Enter Your Name:\")\n",
    "\n",
    "print(\"Hi,\", name+\"! Nice to meet you! \\n Welcome to the Programming Course.\")"
   ]
  },
  {
   "cell_type": "markdown",
   "metadata": {},
   "source": [
    "Task 02 - Reversed Words "
   ]
  },
  {
   "cell_type": "code",
   "execution_count": 10,
   "metadata": {},
   "outputs": [
    {
     "name": "stdout",
     "output_type": "stream",
     "text": [
      "The input is: hello. \n",
      " And Reversed it's: olleh\n"
     ]
    }
   ],
   "source": [
    "#A Using a loop structure \n",
    "def loop_rev(word):               \n",
    "    rev = \"\"\n",
    "    for i in word: \n",
    "        rev  =  i + rev\n",
    "    return rev\n",
    "\n",
    "word = input(\"Enter a word:\")\n",
    "\n",
    "print(\"The input is:\", word+\". \\n And Reversed it's:\", loop_rev(word))\n",
    "\n"
   ]
  },
  {
   "cell_type": "code",
   "execution_count": 11,
   "metadata": {},
   "outputs": [
    {
     "name": "stdout",
     "output_type": "stream",
     "text": [
      "The input is: hello. \n",
      " And Reversed it's: olleh\n"
     ]
    }
   ],
   "source": [
    "#B Using an Array indexes\n",
    "word = input(\"Enter a word:\")\n",
    "rev = word[::-1]\n",
    "print(\"The input is:\", word+\". \\n And Reversed it's:\", rev)"
   ]
  },
  {
   "cell_type": "markdown",
   "metadata": {},
   "source": [
    "Task 03 - Fibonacci Numbers"
   ]
  },
  {
   "cell_type": "code",
   "execution_count": 12,
   "metadata": {},
   "outputs": [
    {
     "name": "stdout",
     "output_type": "stream",
     "text": [
      "0 1 1 2 "
     ]
    }
   ],
   "source": [
    "def fibonacci(fib_len):\n",
    "    f_0, f_1 = 0, 1\n",
    "    n = 0\n",
    "    if fib_len <= 0:                                                     #checks if the value is above 0, if not Error\n",
    "        raise ValueError(\"Please enter a Number greater then 0.\")       \n",
    "    elif fib_len == 1:                                                  #If Value is 1 gives out first Values\n",
    "        print([f_0])\n",
    "    while n < fib_len:                                     #If Iteration n is below given Limit Value the loop continues\n",
    "        print(f_0, end=\" \")\n",
    "        f_n = f_0 + f_1\n",
    "        f_0 = f_1                                                       #Switiching Values for next Iteration\n",
    "        f_1 = f_n\n",
    "        n += 1                                                          #Adding +1 to next Iteration until Iteration is\n",
    "                                                                        #greater than given sequence\n",
    "\n",
    "fib_len = int(input(\"Enter a single Value\"))\n",
    "fibonacci(fib_len)"
   ]
  },
  {
   "cell_type": "markdown",
   "metadata": {},
   "source": [
    "Task 04 - Selective Printing "
   ]
  },
  {
   "cell_type": "code",
   "execution_count": 13,
   "metadata": {},
   "outputs": [
    {
     "name": "stdout",
     "output_type": "stream",
     "text": [
      "[0, 1, 2, 4, 5]\n"
     ]
    }
   ],
   "source": [
    "def Sel_Pri(up_num):\n",
    "    Sel_3 = []\n",
    "    if up_num <= 0:\n",
    "            raise ValueError(\"Please enter a Number greater then 0.\")\n",
    "    for i in range(up_num+1):\n",
    "        if i == 0 or i % 3 != 0:\n",
    "            Sel_3.append(i)\n",
    "    print(Sel_3)\n",
    "\n",
    "\n",
    "up_num = int(input(\"Enter an Upper Bound Number: \"))\n",
    "Sel_Pri(up_num)"
   ]
  },
  {
   "cell_type": "markdown",
   "metadata": {},
   "source": [
    "Task 05 - Triangle Checking "
   ]
  },
  {
   "cell_type": "code",
   "execution_count": 14,
   "metadata": {},
   "outputs": [
    {
     "name": "stdout",
     "output_type": "stream",
     "text": [
      "The lengths of the Triangles sides are: \n",
      " a =  1.0 \n",
      " b =  3.0 \n",
      " c =  5.0\n",
      "The given Triangle is scalene.\n"
     ]
    }
   ],
   "source": [
    "def Tra_Chck():\n",
    "    Tr_a = float(input(\"Enter side a of the Triangle:\"))\n",
    "    Tr_b = float(input(\"Enter side b of the Triangle:\")) \n",
    "    Tr_c = float(input(\"Enter side c of the Triangle:\"))\n",
    "\n",
    "    print(\n",
    "        \"The lengths of the Triangles sides are:\", \n",
    "        \"\\n a = \", Tr_a, \n",
    "        \"\\n b = \", Tr_b,\n",
    "        \"\\n c = \", Tr_c,\n",
    "        )\n",
    "\n",
    "    if Tr_a == Tr_b == Tr_c: \n",
    "        print(\"The given Triangle is equilateral.\")\n",
    "    elif Tr_a != Tr_b != Tr_c: \n",
    "        print(\"The given Triangle is scalene.\")\n",
    "    else: \n",
    "        print(\"The given Triangle is isosceles.\")\n",
    "    \n",
    "    if Tr_c < Tr_a + Tr_b: \n",
    "        print(\"The Triangle is Showing signs of inequality.\")\n",
    "    \n",
    "\n",
    "Tra_Chck()\n"
   ]
  },
  {
   "cell_type": "markdown",
   "metadata": {},
   "source": [
    "Task 06 - Decimal to Octal Conversion"
   ]
  },
  {
   "cell_type": "code",
   "execution_count": 18,
   "metadata": {},
   "outputs": [
    {
     "ename": "SyntaxError",
     "evalue": "invalid syntax (2987855981.py, line 7)",
     "output_type": "error",
     "traceback": [
      "\u001B[1;36m  Input \u001B[1;32mIn [18]\u001B[1;36m\u001B[0m\n\u001B[1;33m    print(num_pos)\u001B[0m\n\u001B[1;37m    ^\u001B[0m\n\u001B[1;31mSyntaxError\u001B[0m\u001B[1;31m:\u001B[0m invalid syntax\n"
     ]
    }
   ],
   "source": [
    "while True:\n",
    "    num = input(\"Enter a positve Value:\")\n",
    "    try:\n",
    "        num_pos = float(num)\n",
    "        if num_pos < 0:\n",
    "            raise ValueError(\"Enter a positive Value.\")\n",
    "    print(num_pos)\n",
    "\n",
    "#oct_num = oct(num)\n",
    "#print(\"The Octal number of \", num,\"is\", oct_num)\n"
   ]
  },
  {
   "cell_type": "code",
   "execution_count": null,
   "outputs": [],
   "source": [],
   "metadata": {
    "collapsed": false
   }
  }
 ],
 "metadata": {
  "kernelspec": {
   "display_name": "Python 3.9.12 ('base')",
   "language": "python",
   "name": "python3"
  },
  "language_info": {
   "codemirror_mode": {
    "name": "ipython",
    "version": 3
   },
   "file_extension": ".py",
   "mimetype": "text/x-python",
   "name": "python",
   "nbconvert_exporter": "python",
   "pygments_lexer": "ipython3",
   "version": "3.9.12"
  },
  "orig_nbformat": 4,
  "vscode": {
   "interpreter": {
    "hash": "3ff7ab44dd38182071764b14f92451d1e3ebb715c671f7f3e9b334837b4a39c4"
   }
  }
 },
 "nbformat": 4,
 "nbformat_minor": 2
}
