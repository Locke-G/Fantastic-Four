{
 "cells": [
  {
   "cell_type": "markdown",
   "metadata": {
    "collapsed": false,
    "id": "CyG8nU1B7btq"
   },
   "source": [
    "# Assignment 05\n",
    "#### Python Basics V - Text Processing\n",
    "\n",
    "This tutorial was written by Terry L. Ruas (University of Göttingen). The references for external contributors for which this material was anyhow adapted/inspired are in the Acknowledgments section (end of the document)."
   ]
  },
  {
   "cell_type": "markdown",
   "metadata": {
    "collapsed": false,
    "id": "fjMwJ_zg7btr"
   },
   "source": [
    "This notebook will cover the following tasks:\n",
    "\n",
    "1. Text Pre-Processing\n",
    "2. Simple Text Analysis"
   ]
  },
  {
   "cell_type": "markdown",
   "metadata": {
    "collapsed": false,
    "id": "zqcCFwVV7bts"
   },
   "source": [
    "## Task 01 – Text Pre-Processing\n",
    "A computational analysis of natural language text typically requires several pre-processing steps, such as excluding irrelevant text parts, separating the text into words, phrases, or sentences depending on the analysis use case, removing so-called stop words, i.e., words that contain little to no semantic meaning, and normalizing the texts, e.g., by removing punctuation and capitalization.\n",
    "\n",
    "Use the *download_file()* function developed in the past assignments to download the plain text versions of Shakespeare’s play [Macbeth](https://ia802707.us.archive.org/1/items/macbeth02264gut/0ws3410.txt) and Bacon’s [New Atlantis](https://ia801309.us.archive.org/24/items/newatlantis02434gut/nwatl10.txt). If you choose not to implement assignment 4, task 6, download the files manually. We will also provide some txt files.\n",
    "\n",
    "Inspect these real-world texts manually to get an idea of what needs to be done to clean and prepare\n",
    "the texts for computational analysis. Implement the following functions to perform common pre-processing steps on the texts:\n",
    "1. *get_speaker_text()* – returns only the text spoken by the characters in the plays and removes all other text in the files, such as:\n",
    "    - Information about the file, acknowledgements, copyright notices etc.\n",
    "    - Headings indicating the act and scene\n",
    "    - Stage instructions\n",
    "    - Character names\n",
    "2. *normalize_text()*\n",
    "    - converts all text to lower case\n",
    "    - removes all punctuation from the texts\n",
    "3. *remove_stopwords()* – eliminates all stop words that are part of the list of English stop words (we provide two lists of stopwords, try both and see how they perform)\n",
    "4. *tokenize_text()* – splits the cleaned text into words\n",
    "\n",
    "This program is a pre-req for the next one."
   ]
  },
  {
   "cell_type": "code",
   "execution_count": 26,
   "metadata": {
    "id": "t5Mz4YP67btt"
   },
   "outputs": [
    {
     "name": "stdout",
     "output_type": "stream",
     "text": [
      "['may however', '', '', '', 'royalties', '', 'whos', 'nay answer stand vnfold', 'long liue king', 'shall three meet againe', 'hurleyburleys done', 'ere set sunne', 'place', 'vpon heath', 'meet macbeth', 'come graymalkin', 'padock calls anon faire foule foule faire', 'bloody man report', 'serieant', 'doubtfull stood', 'valiant cousin worthy gentleman', 'whence sunne gins reflection', 'dismayd captaines macbeth', 'yes sparrowes eagles', 'well thy words become thee thy wounds', 'worthy thane rosse', 'haste lookes eyes', 'god saue king', 'whence camst thou worthy thane', 'fiffe great king', 'great happinesse', 'sweno norwayes king', 'thane cawdor shall deceiue', 'ile see done', 'hath lost noble macbeth hath wonne', 'hast thou beene sister', 'killing swine', 'sister thou', 'saylors wife chestnuts lappe', 'ile giue thee winde', 'thart kinde', 'another', 'selfe haue', 'shew shew', 'haue pilots thumbe', 'drumme drumme', 'weyward sisters hand hand', 'foule faire day haue seene', 'farre ist calld soris', 'speake', 'haile macbeth haile thee thane glamis', 'haile macbeth haile thee thane cawdor', 'haile macbeth shalt king hereafter', 'good sir doe start seeme feare', 'hayle', 'hayle', 'hayle', 'lesser macbeth greater', 'happy yet much happyer', 'thou shalt get kings though thou none', 'banquo macbeth haile', 'stay imperfect speakers tell', 'earth hath bubbles water', 'ayre seemd corporall', 'things doe speake', 'children shall kings', 'shall king', 'thane cawdor went', 'toth selfesame tune words whos', 'king hath happily receiud macbeth', 'wee sent', 'earnest greater honor', 'deuill speake true', 'thane cawdor liues', 'thane liues yet', 'glamys thane cawdor', 'trusted home', 'two truths told', 'looke partners rapt', 'chance haue king', 'new honors come vpon', 'come come may', 'worthy macbeth wee stay vpon leysure', 'giue fauour', 'gladly', 'till enough', 'execution done cawdor', 'liege yet come back', 'theres art', 'seruice loyaltie owe', 'welcome hither', 'grow', 'plenteous ioyes', 'rest labor vsd', 'worthy cawdor', 'prince cumberland step', 'true worthy banquo full valiant', 'met day successe haue', 'king comes night', 'thourt mad say', 'please true thane comming', 'giue tending', 'dearest loue', 'goes hence', 'morrow purposes', 'neuer', 'speake', 'onely looke vp cleare', 'castle hath pleasant seat', 'guest summer', 'see see honord hostesse', 'seruice', 'wheres thane cawdor', 'seruants euer', 'giue hand', 'done tis done twer well', 'almost supt haue left chamber', 'hath askd', 'know', 'proceed businesse', 'hope drunke', 'prythee peace', 'beast wast', 'faile', 'faile', 'bring forth menchildren onely', 'dares receiue', 'settled bend vp', 'goes night boy', 'moone downe haue heard', 'goes downe twelue', 'taket tis later sir', 'hold take sword', 'friend', 'sir yet rest kings bed', 'vnprepard', 'alls well', 'thinke', 'kindst leysure', 'shall cleaue consent', 'lose none', 'good repose', 'thankes sir like', 'goe bid thy mistresse drinke ready', 'hath made drunk hath made bold', 'whos hoa', 'alack afraid haue awakd', 'haue done deed', 'heard owle schreame crickets cry', '', '', 'descended', '', 'hearke lyes ith second chamber', 'donalbaine', 'sorry sight', 'foolish thought say sorry sight', 'theres one laugh ins sleepe', 'two lodgd together', 'one cryd god blesse vs amen', 'consider deepely', 'wherefore could pronounce amen', 'deeds must thought', 'thought heard voyce cry sleep', 'doe meane', 'still cryd sleepe house', 'thus cryd worthy thane', 'ile goe', 'infirme purpose', 'whence knocking', 'hands colour shame', 'know deed', 'heres knocking indeede man', 'late friend ere went bed', 'faith sir carowsing till second cock', 'three things drinke especially', 'marry sir nosepainting sleepe vrine', 'beleeue drinke gaue thee lye last night', 'sir ithe throat', 'thy master stirring', 'good morrow noble sir', 'good morrow', 'king stirring worthy thane', 'yet', 'command call timely', 'ile bring', 'know ioyfull trouble', 'labour delight physicks paine', 'ile make bold call tis limitted', 'goes king hence day', 'appoint', 'night vnruly', 'twas rough night', 'young remembrance cannot paralell', 'horror horror horror', 'lenox whats matter', 'confusion hath made masterpeece', 'ist say life', 'meane maiestie', 'approch chamber destroy sight', 'whats businesse', 'gentle lady', 'woe alas', 'cruell', 'dyd houre chance', 'amisse', 'doe knowt', 'royall fathers murtherd', 'oh', 'chamber seemd dont', 'yet doe repent furie', 'wherefore', 'wise amazd temprate furious', 'helpe hence hoa', 'looke lady', 'doe hold tongues', 'spoken', 'strong sorrow', 'looke lady', 'doe', '', 'lets briefely put manly readinesse', 'well contented', 'doe', 'ireland', 'murtherous shaft thats shot', 'threescore ten remember well', 'ha good father', 'tis vnnaturall', 'duncans horses', 'tis said eate', '', 'see', 'ist known bloody deed', 'macbeth hath slaine', 'alas day', 'subborned', 'gainst nature still', 'already namd gone scone', 'duncans body', 'carried colmekill', 'scone', 'cosin ile fife', 'well thither', 'well may see things wel done adieu', 'farewell father', 'gods benyson go', 'thou hast king cawdor glamis', 'heeres chiefe guest', 'beene forgotten', 'night hold solemne supper sir', 'let highnesse', 'ride afternoone', 'good lord', 'haue else desird good aduice', 'farre lord fill vp time', 'faile feast', 'lord', 'heare bloody cozens bestowd', 'good lord time call vpons', 'wish horses swift sure foot', 'lord without pallace', 'bring vs', 'please highnesse', 'well', 'murth made knowne vs', '', 'murth men liege', 'catalogue ye goe men', 'murth one liege', 'murth another', 'know banquo enemie', 'true lord', 'mine bloody distance', 'murth shall lord', 'murth though liues', 'spirits shine', 'resolud lord', 'ile call vpon straight abide within', 'banquo gone court', 'madame returnes againe night', 'say king would attend leysure', 'madame', 'noughts alls spent', 'haue scorchd snake killd', 'come', 'shall loue pray', 'must leaue', 'full scorpions minde deare wife', 'natures coppies eterne', 'theres comfort yet assaileable', 'whats done', 'innocent knowledge dearest chuck', 'bid thee ioyne vs', 'macbeth', 'needes mistrust since deliuers', 'stand vs', 'hearke heare horses', 'giue vs light hoa', 'tis hee', 'horses goe', 'almost mile vsually', 'light light', 'tis hee', 'stand toot', 'rayne night', 'let come downe', 'trecherie', 'strike light', 'wast way', 'theres one downe sonne fled', 'haue lost', 'well lets away say much done', 'know owne degrees sit downe', 'thankes maiesty', 'selfe mingle society', 'pronounce sir friends', 'see encounter thee harts thanks', 'tis banquos', 'tis better thee without within', 'lord throat cut', 'thou art best oth cutthroats', 'royall sir', 'comes fit againe', 'good lord safe ditch bides', 'thankes', 'royall lord', 'sweet remembrancer', 'mayt please highnesse sit', 'countries honor roofd', 'absence sir', 'tables full', 'heere place reserud sir', '', 'heere good lord', 'haue done', 'good lord', 'thou canst say neuer shake', 'gentlemen rise highnesse well', 'sit worthy friends lord often thus', 'bold one dare looke', 'proper stuffe', 'prythee see', 'quite vnmannd folly', 'stand heere saw', 'fie shame', 'blood hath bene shed ere ith olden time', 'worthy lord', 'forget', 'duties pledge', 'auant quit sight let earth hide thee', 'thinke good peeres', 'man dare dare', 'haue displacd mirth', 'things', 'sights lord', 'pray speake growes worse worse', 'good night better health', 'kinde goodnight', 'haue blood say', 'almost oddes morning', 'sayst thou macduff denies person', 'send sir', 'heare way send', 'lacke season natures sleepe', 'come weel sleepe strange selfabuse', 'hecat looke angerly', 'haue reason beldams', 'former speeches', 'sonnes duncane', 'sent macduffe', 'absolute sir', 'well might', 'ile send prayers', 'double double toile trouble', 'double double toyle trouble', 'double double toyle trouble', 'well done commend paines', 'secret black midnight hags', 'deed without name', 'coniure professe', 'call em let see em', 'come high low', 'tell thou vnknowne power', 'macbeth macbeth macbeth', 'ere thou art thy good caution thanks', 'macbeth macbeth macbeth', 'three eares ild heare thee', 'bloody bold resolute', 'liue macduffe need feare thee', 'listen speake toot', 'lyon metled proud take care', 'neuer bee', 'seeke know', 'satisfied deny', 'shew eyes greeue hart', 'thou art like spirit banquo', '', 'gone', 'whats graces', 'saw weyard sisters', 'lord', 'came', 'indeed lord', 'infected ayre whereon ride', 'tis two three lord bring word', 'fled england', 'good lord', 'time thou anticipatst dread exploits', 'done make fly land', 'must haue patience madam', 'none', 'know', 'wisedom leaue wife leaue babes', 'deerest cooz', 'fatherd', 'much foole stay longer', 'sirra fathers dead', 'birds mother', 'wormes flyes', 'get meane', 'poore bird', 'mother', 'yes dead', 'nay husband', 'buy twenty market', 'youl em sell againe', 'thou speakst withall thy wit', 'father traitor mother', '', 'traitor', 'one sweares lyes', 'traitors', 'euery one dos traitor', 'must hangd swear lye', 'euery one', 'must hang', 'honest men', 'liars swearers fools', 'god helpe thee poore monkie', 'dead yould weepe', 'poore pratler thou talkst', 'blesse faire dame known', 'whether flye', 'husband', 'hope place vnsanctified', 'hes traitor', 'thou lyst thou shaggeeard villaine', 'egge', 'killd mother', 'let vs seeke desolate shade', 'let vs rather', 'beleeue ile waile', 'treacherous', 'macbeth', 'haue lost hopes', 'perchance euen', 'bleed bleed poore country', 'offended', '', 'selfe meane know', 'legions', 'grant bloody', 'boundlesse intemperance', 'growes', 'auarice', 'haue none kingbecoming graces', 'scotland scotland', 'one fit gouerne speake', 'fit gouern liue nation miserable', 'macduff noble passion', 'welcome vnwelcom things', 'well anon comes king forth', 'sir crew wretched soules', 'thanke doctor', 'whats disease meanes', 'tis calld euill', 'see comes heere', 'countryman yet know', 'euer gentle cozen welcome hither', 'know good god betimes remoue', 'sir amen', 'stands scotland', 'alas poore countrey', 'oh relation nice yet true', 'whats newest griefe', 'houres age doth hisse speaker', 'dos wife', 'well', 'children', 'well', 'tyrant batterd peace', 'wel peace leaue em', 'niggard speech gost', 'came hither transport tydings', 'beet comfort', 'would could answer', 'concerne', 'minde thats honest', 'mine', 'let eares dispise tongue euer', 'humh guesse', 'castle surprizd wife babes', 'mercifull heauen', 'children', 'wife children seruants could found', 'must thence wife kild', 'haue said', 'comforted', 'children pretty ones', 'dispute like man', 'shall', 'whetstone sword let griefe', 'could play woman mine eyes', 'time goes manly', 'haue nights watchd', 'since maiesty went field haue', 'great perturbation nature receyue', 'sir report', 'may tis meet', 'neither one hauing witnesse', 'came light', 'stood light continually', 'see eyes open', 'sense shut', 'dos', 'accustomd action seeme', 'yet heeres spot', 'heark speaks set downe comes', 'damned spot say one two', 'marke', 'thane fife wife', 'go go', 'spoke shee sure', 'heeres smell blood still perfumes', 'sigh hart sorely chargd', 'would haue heart bosome', 'well well well', 'pray god sir', 'disease beyond practise yet haue', 'wash hands put nightgowne', 'euen', 'bed bed theres knocking gate', 'go bed', 'directly', 'foule whisprings abroad vnnaturall deeds', 'good night good doctor', 'english powre neere led malcolm', 'neere byrnan wood', 'knowes donalbane brother', 'certaine sir haue file', 'dos tyrant', 'great dunsinane strongly fortifies', 'dos feele', 'shall blame', 'well march', 'much needes', 'bring reports let flye', 'ten thousand', 'geese villaine', 'souldiers sir', 'go pricke thy face ouerred thy feare', 'english force please', 'take thy face hence seyton sick hart', 'whats gracious pleasure', 'newes', 'confirmd lord reported', 'ile fight till bones flesh hackt', 'tis needed yet', 'ile put', 'sicke lord', 'cure', 'therein patient', 'throw physicke dogs ile none', 'good lord royall preparation', 'bring', 'dunsinane away cleere', 'cosins hope dayes neere hand', 'doubt nothing', 'wood vs', 'wood birnane', 'let euery souldier hew downe bough', 'shall done', 'learne confident tyrant', 'tis maine hope', 'let iust censures', 'time approaches', 'hang banners outward walls', 'cry women good lord', 'haue almost forgot taste feares', 'queene lord dead', 'haue dyde heereafter', 'gracious lord', 'well say sir', 'stand watch vpon hill', 'lyar slaue', 'let endure wrath ift', 'thou speakst false', 'neere enough', 'fare well', 'make trumpets speak giue breath', 'haue tied stake cannot flye', 'sey thy name', 'thoult affraid heare', 'sey though thou callst thy selfe hoter name', 'names macbeth', 'sey diuell himselfe could pronounce title', 'fearefull', 'sey thou lyest abhorred tyrant sword', 'thou wast borne woman', 'way noise tyrant shew thy face', 'way lord castles gently rendred', 'haue met foes', 'enter sir castle', 'play roman foole dye', 'turne hellhound turne', 'men else haue auoyded thee', 'haue words', 'thou loosest labour', 'dispaire thy charme', 'accursed tongue tels mee', 'yeeld thee coward', 'yeeld', 'would friends misse safe arriud', 'must go yet see', 'macduffe missing noble sonne', 'son lord paid souldiers debt', 'dead', 'brought field cause sorrow', 'hurts', 'front', 'gods soldier', 'hees worth sorrow', 'hes worth', 'haile king thou art', 'haile king scotland', 'shall spend large expence time']\n"
     ]
    },
    {
     "name": "stderr",
     "output_type": "stream",
     "text": [
      "[nltk_data] Downloading package stopwords to\n",
      "[nltk_data]     /home/gabrielgeissler/nltk_data...\n",
      "[nltk_data]   Package stopwords is already up-to-date!\n"
     ]
    }
   ],
   "source": [
    "import string\n",
    "import nltk\n",
    "nltk.download('stopwords')\n",
    "from nltk.corpus import stopwords\n",
    "\n",
    "\n",
    "\n",
    "def get_speaker_Macbeth(file_name):\n",
    "    global speaker_text\n",
    "    speaker_text = []\n",
    "    with open(file_name, 'r', encoding='ISO-8859-1') as file:\n",
    "        for line in file:\n",
    "            if line.startswith((' ', '\\t')) and '.' in line:\n",
    "                speaker_text.append(line.split('.', 1)[1])\n",
    "    return speaker_text\n",
    "\n",
    "file_name = 'Macbeth.txt'\n",
    "\n",
    "\n",
    "def normalize_text(text1_list):\n",
    "    cleaned_text_list = []\n",
    "    for text in text_list:\n",
    "        # Convert text to lowercase\n",
    "        text = text.lower()\n",
    "        # Remove punctuation\n",
    "        text = text.translate(text.maketrans('', '', string.punctuation))\n",
    "        cleaned_text_list.append(text)\n",
    "    return cleaned_text_list\n",
    "\n",
    "text_list1 = get_speaker_Macbeth(file_name)\n",
    "text_list1 = normalize_text(text_list1)\n",
    "\n",
    "def remove_stop_words(text2_list):\n",
    "    stop_words = set(stopwords.words('english'))\n",
    "    cleaned_text_list = []\n",
    "    for text in text_list2:\n",
    "        cleaned_text = [word for word in text.split() if word.lower() not in stop_words]\n",
    "        cleaned_text_list.append(\" \".join(cleaned_text))\n",
    "    return cleaned_text_list\n",
    "\n",
    "text_list2 = text_list1\n",
    "print(remove_stop_words(text_list2))\n",
    "\n",
    "#import re\n",
    "\n",
    "#def get_speaker_atlantis(file_name):\n",
    "#    with open(file_name, 'r', encoding='ISO-8859-1') as file:\n",
    "#        alltext = file.read()\n",
    "#    split_text = re.findall(r'\"(.*?)\"', alltext)\n",
    "#    return split_text\n",
    "\n"
   ]
  },
  {
   "cell_type": "code",
   "execution_count": null,
   "outputs": [],
   "source": [],
   "metadata": {
    "collapsed": false
   }
  },
  {
   "cell_type": "markdown",
   "metadata": {
    "collapsed": false,
    "id": "vcpnC_hq7btu"
   },
   "source": [
    "## Task 02 – Classes\n",
    "The [Baconian theory](https://en.wikipedia.org/wiki/Baconian_theory_of_Shakespeare_authorship) holds that Sir Francis Bacon is the author of Shakespeare’s plays. We want to perform a very simple stylistic analysis between Shakespeare’s play Macbeth and Bacon’s New Atlantis. We check for words that frequently occur in both documents to see whether there are characteristic words that co-occur in the texts, which might give some support to the theory.\n",
    "\n",
    "Your Task:\n",
    "1. Download and pre-process the texts as follows:  \n",
    "  New Atlantis\n",
    "    1. *get_speaker_text()*\n",
    "    2. *normalize_text()*\n",
    "    3. *remove_stopwords()*\n",
    "    4. *tokenize_text()*   \n",
    "  \n",
    " Macbeth\n",
    "    1. *get_speaker_text()*\n",
    "    2. *normalize_text()*\n",
    "        1. *utils_ocr.correct_ocr_errors()* – we will provide a function to deal with OCR errors.\n",
    "    3. *remove_stopwords()*\n",
    "    4. *tokenize_text()*\n",
    "2. For the pre-processed texts, compute the list of word co-occurrence frequencies, i.e. which words occur in both documents and how often. Use the format:  \n",
    "[term , frequency_doc1 , frequency_doc2 , sum_of_frequencies]  \n",
    "Sort the list according to the sum of the frequencies in descending order.\n",
    "3. Use the csv library to store the ordered word co-occurrence frequency list in a CSV file. **You can zip the csv and upload it to GitHub.**"
   ]
  },
  {
   "cell_type": "code",
   "execution_count": null,
   "metadata": {
    "id": "LPkEibMM7btu"
   },
   "outputs": [],
   "source": []
  }
 ],
 "metadata": {
  "colab": {
   "provenance": []
  },
  "kernelspec": {
   "display_name": "base",
   "language": "python",
   "name": "python3"
  },
  "language_info": {
   "codemirror_mode": {
    "name": "ipython",
    "version": 2
   },
   "file_extension": ".py",
   "mimetype": "text/x-python",
   "name": "python",
   "nbconvert_exporter": "python",
   "pygments_lexer": "ipython2",
   "version": "3.9.13 (main, Aug 25 2022, 23:26:10) \n[GCC 11.2.0]"
  },
  "vscode": {
   "interpreter": {
    "hash": "01dc1f33a63ed569e9455316d446b4c9b20c4818a200e8c07e8709c42ac5591b"
   }
  }
 },
 "nbformat": 4,
 "nbformat_minor": 0
}
