{
  "nbformat": 4,
  "nbformat_minor": 0,
  "metadata": {
    "colab": {
      "provenance": [],
      "toc_visible": true,
      "collapsed_sections": [],
      "authorship_tag": "ABX9TyMrhMvC7MvSr0wDfJtvr1mP",
      "include_colab_link": true
    },
    "kernelspec": {
      "name": "python3",
      "display_name": "Python 3"
    },
    "language_info": {
      "name": "python"
    }
  },
  "cells": [
    {
      "cell_type": "markdown",
      "metadata": {
        "id": "view-in-github",
        "colab_type": "text"
      },
      "source": [
        "<a href=\"https://colab.research.google.com/github/Locke-G/Fantastic-Four/blob/main/assignment/assignment_1.ipynb\" target=\"_parent\"><img src=\"https://colab.research.google.com/assets/colab-badge.svg\" alt=\"Open In Colab\"/></a>"
      ]
    },
    {
      "cell_type": "markdown",
      "source": [
        "Task 01 – Hello KCCS"
      ],
      "metadata": {
        "id": "UOwjFWOulVNm"
      }
    },
    {
      "cell_type": "code",
      "execution_count": 40,
      "metadata": {
        "colab": {
          "base_uri": "https://localhost:8080/"
        },
        "id": "xeShUovilEgz",
        "outputId": "b39c501f-51e6-4c89-ff7b-da0a34c6ab0e"
      },
      "outputs": [
        {
          "name": "stdout",
          "output_type": "stream",
          "text": [
            "Enter your name: thanh\n"
          ]
        }
      ],
      "source": [
        "name = input(\"Enter your name: \")\n",
        "print(\"Hi \" + name + \"! Nice to meet you!\")\n",
        "print(\"Welcome to the Programing Course!\")"
      ]
    },
    {
      "cell_type": "markdown",
      "source": [
        "Task 02 – Reversed Words"
      ],
      "metadata": {
        "id": "GIbNyef4mSOO"
      }
    },
    {
      "cell_type": "code",
      "source": [
        "#loop\n",
        "original = input()\n",
        "reverse = \"\"\n",
        "for i in original:\n",
        "  reverse = i + reverse\n",
        "print(reverse)"
      ],
      "metadata": {
        "colab": {
          "base_uri": "https://localhost:8080/"
        },
        "id": "LrnpOZPbmOaI",
        "outputId": "1d22a4c4-b10f-4fc5-ba66-d238ae080bc2"
      },
      "execution_count": null,
      "outputs": [
        {
          "output_type": "stream",
          "name": "stdout",
          "text": [
            "thanh\n",
            "hnaht\n"
          ]
        }
      ]
    },
    {
      "cell_type": "code",
      "source": [
        "#index\n",
        "original = input()\n",
        "reverse = original[::-1]\n",
        "print(reverse)"
      ],
      "metadata": {
        "colab": {
          "base_uri": "https://localhost:8080/"
        },
        "id": "D1BVoJ1YoNlb",
        "outputId": "5a1bc476-f723-485c-f6b4-ae1ce4c9cf69"
      },
      "execution_count": null,
      "outputs": [
        {
          "output_type": "stream",
          "name": "stdout",
          "text": [
            "thanh\n",
            "hnaht\n"
          ]
        }
      ]
    },
    {
      "cell_type": "markdown",
      "source": [
        "Task 03 – Fibonacci Numbers"
      ],
      "metadata": {
        "id": "yeH9uUGBv7pA"
      }
    },
    {
      "cell_type": "code",
      "source": [
        "import getpass\n",
        "#upper_bound = int(input())           #user input is shown with the Fibonacci numbers\n",
        "upper_bound = int(getpass.getpass())  #hide user input\n",
        "n1, n2 = 0, 1\n",
        "count = 0\n",
        "if upper_bound <= 0:\n",
        "   print(\"False\")\n",
        "elif upper_bound == 1:\n",
        "   print(n1)\n",
        "else:\n",
        "   while count < upper_bound:\n",
        "       print(n1)\n",
        "       nth = n1 + n2\n",
        "       n1 = n2\n",
        "       n2 = nth\n",
        "       count += 1"
      ],
      "metadata": {
        "colab": {
          "base_uri": "https://localhost:8080/"
        },
        "id": "Y8ELRqSIv9p4",
        "outputId": "1fe8a017-9d59-498c-ec57-2e4a3ec7bc2a"
      },
      "execution_count": null,
      "outputs": [
        {
          "output_type": "stream",
          "name": "stdout",
          "text": [
            "··········\n",
            "0\n",
            "1\n",
            "1\n",
            "2\n",
            "3\n"
          ]
        }
      ]
    },
    {
      "cell_type": "markdown",
      "source": [
        "Task 04 – Selective Printing"
      ],
      "metadata": {
        "id": "grH5BhMXcAll"
      }
    },
    {
      "cell_type": "code",
      "source": [
        "import getpass\n",
        "upper_bound = int(getpass.getpass())\n",
        "if upper_bound < 0:\n",
        "   print(\"Please choose a non-negative integer\")\n",
        "else:\n",
        "   for i in range(upper_bound + 1):\n",
        "     if i == 0 or i %3 != 0:\n",
        "       print(i)"
      ],
      "metadata": {
        "colab": {
          "base_uri": "https://localhost:8080/"
        },
        "id": "7bfgkikPcCbI",
        "outputId": "f7a86054-1b24-4b20-d4e5-07e819d9f8a3"
      },
      "execution_count": null,
      "outputs": [
        {
          "output_type": "stream",
          "name": "stdout",
          "text": [
            "··········\n",
            "0\n",
            "1\n",
            "2\n",
            "4\n",
            "5\n",
            "7\n",
            "8\n",
            "10\n"
          ]
        }
      ]
    },
    {
      "cell_type": "markdown",
      "source": [
        "Task 05 – Triangle Checking"
      ],
      "metadata": {
        "id": "CUV42qE7j09_"
      }
    },
    {
      "cell_type": "code",
      "source": [
        "def triangle_check(a, b, c):\n",
        "    if a + b >= c and b + c >= a and c + a >= b:\n",
        "      if a == b == c:\n",
        "        print(\"These sides form an equilateral triangle\")\n",
        "      elif a != b != c:\n",
        "        print(\"These sides form a scalene triangle\")\n",
        "      else:\n",
        "        print(\"These sides form an isosceles triangle\")       \n",
        "    else:\n",
        "        print(\"These sides cannot form a triangle\")\n",
        "        \n",
        "triangle_check(\n",
        "    a = float(input(\"Length of side a: \")),\n",
        "    b = float(input(\"Length of side b: \")),\n",
        "    c = float(input(\"Length of side c: \"))\n",
        ")"
      ],
      "metadata": {
        "id": "u3QflmkRqmrk",
        "outputId": "bd33ec06-64b1-4fb2-8d93-213122a7f8df",
        "colab": {
          "base_uri": "https://localhost:8080/"
        }
      },
      "execution_count": 39,
      "outputs": [
        {
          "name": "stdout",
          "output_type": "stream",
          "text": [
            "Length of side a: 1\n",
            "Length of side b: 2\n",
            "Length of side c: 3\n"
          ]
        }
      ]
    },
    {
      "cell_type": "markdown",
      "source": [
        "Task 06 – Decimal to Octal Conversion"
      ],
      "metadata": {
        "id": "iJ5YaNPH3TVT"
      }
    },
    {
      "cell_type": "code",
      "source": [
        "# Reverse print remainders (straightforward)\n",
        "def decmal_to_octal(input_number):\n",
        "    octal = [0] * 10                    # Placeholder for 10 digits\n",
        "    i = 0\n",
        "    if input_number >= 0:\n",
        "      while input_number != 0:\n",
        "        octal[i] = input_number % 8\n",
        "        input_number = input_number // 8\n",
        "        i += 1\n",
        "      for j in range(i - 1, -1, -1):\n",
        "        print(octal[j], end = \"\")         # Print reverse in the same line\n",
        "    else:\n",
        "        print(\"Please choose a non-negative integer\")\n",
        "    \n",
        "decmal_to_octal(input_number = int(input()))"
      ],
      "metadata": {
        "id": "ujrfHryHWLul",
        "colab": {
          "base_uri": "https://localhost:8080/"
        },
        "outputId": "6fcb3e6e-da4b-4fa7-c549-d5e2079702f8"
      },
      "execution_count": 38,
      "outputs": [
        {
          "name": "stdout",
          "output_type": "stream",
          "text": [
            "Please choose a non-negative integer: 99999999\n"
          ]
        }
      ]
    },
    {
      "cell_type": "code",
      "source": [
        "# Reverse print remainders (redirect the print output)\n",
        "from io import StringIO\n",
        "import sys\n",
        "old_stdout = sys.stdout\n",
        "new_stdout = StringIO()\n",
        "sys.stdout = new_stdout\n",
        "\n",
        "def decmal_to_octal(input_number):\n",
        "  if input_number >= 0:\n",
        "    while input_number % 8 != 0:\n",
        "      remainder = input_number % 8\n",
        "      input_number = input_number//8\n",
        "      print(remainder, end = \"\")   \n",
        "  else:\n",
        "    print(\"Please choose a non-negative integer\")\n",
        "\n",
        "decmal_to_octal(input_number = int(input(\"Please choose a non-negative integer: \")))\n",
        "print_output = new_stdout.getvalue()\n",
        "print_output[::-1]\n",
        "\n",
        "# Restore print\n",
        "# sys.stdout = old_stdout"
      ],
      "metadata": {
        "id": "at9zRoNnL1N0",
        "outputId": "7346077f-bdd2-4d0a-a8e2-6f93c9343d1d",
        "colab": {
          "base_uri": "https://localhost:8080/",
          "height": 52
        }
      },
      "execution_count": 31,
      "outputs": [
        {
          "name": "stdout",
          "output_type": "stream",
          "text": [
            "Please choose a non-negative integer: 142\n"
          ]
        },
        {
          "output_type": "execute_result",
          "data": {
            "text/plain": [
              "'216'"
            ],
            "application/vnd.google.colaboratory.intrinsic+json": {
              "type": "string"
            }
          },
          "metadata": {},
          "execution_count": 31
        }
      ]
    },
    {
      "cell_type": "code",
      "source": [
        "# Recursion\n",
        "def decmal_to_octal(input_number):\n",
        "    if input_number >= 0:\n",
        "        if input_number > 0:\n",
        "            decmal_to_octal(int(input_number / 8))\n",
        "            print(input_number % 8, end = '')\n",
        "    else:\n",
        "        print(\"Please choose a non-negative integer\")\n",
        "decmal_to_octal(input_number = int(input()))"
      ],
      "metadata": {
        "id": "aFh3WuAnIfIW"
      },
      "execution_count": null,
      "outputs": []
    }
  ]
}