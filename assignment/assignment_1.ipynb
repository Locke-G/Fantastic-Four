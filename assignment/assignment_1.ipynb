{
  "nbformat": 4,
  "nbformat_minor": 0,
  "metadata": {
    "colab": {
      "provenance": [],
      "toc_visible": true,
      "authorship_tag": "ABX9TyOeGFXeNgxWxsGD6wIZK6E4",
      "include_colab_link": true
    },
    "kernelspec": {
      "name": "python3",
      "display_name": "Python 3"
    },
    "language_info": {
      "name": "python"
    }
  },
  "cells": [
    {
      "cell_type": "markdown",
      "metadata": {
        "id": "view-in-github",
        "colab_type": "text"
      },
      "source": [
        "<a href=\"https://colab.research.google.com/github/nguyen-huu-ky-thanh/Fantastic-Four/blob/main/assignment/assignment_1.ipynb\" target=\"_parent\"><img src=\"https://colab.research.google.com/assets/colab-badge.svg\" alt=\"Open In Colab\"/></a>"
      ]
    },
    {
      "cell_type": "markdown",
      "source": [
        "Task 01 – Hello KCCS"
      ],
      "metadata": {
        "id": "UOwjFWOulVNm"
      }
    },
    {
      "cell_type": "code",
      "execution_count": 14,
      "metadata": {
        "colab": {
          "base_uri": "https://localhost:8080/"
        },
        "id": "xeShUovilEgz",
        "outputId": "87e56be0-e865-497d-e7a0-ece4ffe63f07"
      },
      "outputs": [
        {
          "output_type": "stream",
          "name": "stdout",
          "text": [
            "Enter your name: thanh\n",
            "Hi thanh! Nice to meet you!\n",
            "Welcome to the Programing Course!\n"
          ]
        }
      ],
      "source": [
        "name = input(\"Enter your name: \")\n",
        "print(\"Hi \" + name + \"! Nice to meet you!\")\n",
        "print(\"Welcome to the Programing Course!\")"
      ]
    },
    {
      "cell_type": "markdown",
      "source": [
        "Task 02 – Reversed Words"
      ],
      "metadata": {
        "id": "GIbNyef4mSOO"
      }
    },
    {
      "cell_type": "code",
      "source": [
        "#loop\n",
        "original = input()\n",
        "reverse = \"\"\n",
        "for i in original:\n",
        "  reverse = i + reverse\n",
        "print(reverse)"
      ],
      "metadata": {
        "colab": {
          "base_uri": "https://localhost:8080/"
        },
        "id": "LrnpOZPbmOaI",
        "outputId": "75e7f88d-f4d2-49e3-ec59-70bd705749e9"
      },
      "execution_count": 9,
      "outputs": [
        {
          "output_type": "stream",
          "name": "stdout",
          "text": [
            "thanh\n",
            "hnaht\n"
          ]
        }
      ]
    },
    {
      "cell_type": "code",
      "source": [
        "#index\n",
        "original = input()\n",
        "reverse = original[::-1]\n",
        "print(reverse)"
      ],
      "metadata": {
        "colab": {
          "base_uri": "https://localhost:8080/"
        },
        "id": "D1BVoJ1YoNlb",
        "outputId": "5a1bc476-f723-485c-f6b4-ae1ce4c9cf69"
      },
      "execution_count": 13,
      "outputs": [
        {
          "output_type": "stream",
          "name": "stdout",
          "text": [
            "thanh\n",
            "hnaht\n"
          ]
        }
      ]
    }
  ]
}