{
  "cells": [
    {
      "cell_type": "markdown",
      "metadata": {
        "id": "view-in-github",
        "colab_type": "text"
      },
      "source": [
        "<a href=\"https://colab.research.google.com/github/Locke-G/Fantastic-Four/blob/main/02_Assignment_Python.ipynb\" target=\"_parent\"><img src=\"https://colab.research.google.com/assets/colab-badge.svg\" alt=\"Open In Colab\"/></a>"
      ]
    },
    {
      "cell_type": "markdown",
      "source": [
        "# Assignment 02\n",
        "##### Python Basics II\n",
        "\n",
        "This tutorial was written by Terry Ruas (University of Göttingen); The references for external contributors for which this material was anyhow adapted/inspired are in the Acknowledgments section (end of the document).\n"
      ],
      "metadata": {
        "collapsed": false,
        "id": "LZgQdr4W6iKz"
      }
    },
    {
      "cell_type": "markdown",
      "source": [
        "This notebook will cover the following tasks:\n",
        "\n",
        "1. String Length\n",
        "2. Largest List Element\n",
        "3. Character Frequency\n",
        "4. Sorted List of Tuples\n",
        "5. Check Brackets\n",
        "6. Check Brackets II\n",
        "7. Queue\n",
        "8. Unlimited Power\n",
        "9. Unlimited Power II"
      ],
      "metadata": {
        "collapsed": false,
        "id": "Yvektzz_6iK1"
      }
    },
    {
      "cell_type": "markdown",
      "source": [
        "## Task 01 – String Length\n",
        "Write a program that reads in a string and prints the length of the input string. Do not use any built-in functions of Python, such as len().\n",
        "For example, if the input is “Computer Science”, the output should be length: 16."
      ],
      "metadata": {
        "collapsed": false,
        "id": "4GPUv_8U6iK1"
      }
    },
    {
      "cell_type": "code",
      "execution_count": null,
      "outputs": [
        {
          "output_type": "stream",
          "name": "stdout",
          "text": [
            "Computer Science\n",
            "16\n"
          ]
        }
      ],
      "source": [
        "word = input()\n",
        "count = 0\n",
        "for i in word:\n",
        "  count += 1\n",
        "print (count)"
      ],
      "metadata": {
        "id": "xt3XV0YD6iK2",
        "outputId": "e09984cc-f9a4-4b48-8438-42aae8bc9d6b",
        "colab": {
          "base_uri": "https://localhost:8080/"
        }
      }
    },
    {
      "cell_type": "markdown",
      "source": [
        "## Task 02 – Largest List Element\n",
        "Write a program that generates a list of 10 random integers between 1 and 100 and then finds and prints the largest element in the list. Do not use the built-in function max().\n",
        "For example, if the input is [23,3,42,29,12,15,8,4,37,34], the output should be the largest element: 42.\n",
        "\n",
        "Hint: Check out the module [random](https://docs.python.org/3.7/library/random.html)."
      ],
      "metadata": {
        "collapsed": false,
        "id": "_Jz4T4AQ6iK3"
      }
    },
    {
      "cell_type": "code",
      "execution_count": null,
      "outputs": [
        {
          "output_type": "stream",
          "name": "stdout",
          "text": [
            "[28, 95, 23, 55, 72, 54, 36, 73, 31, 23]\n",
            "95\n"
          ]
        }
      ],
      "source": [
        "import random\n",
        "#create list\n",
        "list = []\n",
        "for i in range (0,10):\n",
        "  number = random.randint(0,100)\n",
        "  list.append(number)\n",
        "print(list)\n",
        "#find maximum\n",
        "max = 0\n",
        "for i in list:\n",
        "  if i>max:\n",
        "    max = i\n",
        "print (max)\n"
      ],
      "metadata": {
        "id": "aKLGcZ0_6iK3",
        "outputId": "eeaaf965-663f-4bac-96d9-da874989cdad",
        "colab": {
          "base_uri": "https://localhost:8080/"
        }
      }
    },
    {
      "cell_type": "markdown",
      "source": [
        "## Task 03 – Character Frequency\n",
        "Write a program that:\n",
        "* Reads in a string and removes any spaces from the string\n",
        "* Counts how often individual characters occur in the string\n",
        "* Stores the information on character occurrence frequency in a dictionary\n",
        "* Prints the dictionary.\n",
        "\n",
        "For example, if the input is “santa claus”, the output should be:\n",
        "{'s': 2, 'a': 3, 'n': 1, 't': 1, 'c': 1, 'l': 1, 'u': 1}."
      ],
      "metadata": {
        "collapsed": false,
        "id": "PalhJ9x36iK4"
      }
    },
    {
      "cell_type": "code",
      "execution_count": null,
      "outputs": [
        {
          "output_type": "stream",
          "name": "stdout",
          "text": [
            "santa claus\n",
            "['santa', 'claus']\n",
            "santaclaus\n",
            "{'n', 'c', 'l', 't', 'u', 'a', 's'}\n",
            "{'n': 1, 'c': 1, 'l': 1, 't': 1, 'u': 1, 'a': 3, 's': 2}\n"
          ]
        }
      ],
      "source": [
        "sentence = input()\n",
        "#remove spaces\n",
        "slist = sentence.split()\n",
        "print(slist)\n",
        "newsentence = \"\".join(slist)\n",
        "#set\n",
        "a = set(newsentence)\n",
        "\n",
        "#dictionary\n",
        "d = {x: newsentence.count(x) for x in a}\n",
        "print(d)"
      ],
      "metadata": {
        "id": "vm5UlcKB6iK4",
        "outputId": "998d8197-ca11-45bd-bfa1-5d6da47729bd",
        "colab": {
          "base_uri": "https://localhost:8080/"
        }
      }
    },
    {
      "cell_type": "markdown",
      "source": [
        "## Task 04 – Sorted List of Tuples\n",
        "Write a program that:\n",
        "* Generates a list of 10 tuples, each tuple consisting of 3 random integers between 1 and 100\n",
        "* Sorts the list of tuples in increasing order of the third element in each tuple\n",
        "* Prints the sorted list of tuples\n",
        "\n",
        "For example, if the generated input list is: [(56, 77, 69), (43, 30, 38), (2, 77, 101), (93, 57, 4), (74, 21, 77), (39, 68, 68), (65, 53, 96), (16, 29, 88), (88, 70, 38)]\n",
        "The output should be: [(93, 57, 4), (43, 30, 38), (88, 70, 38), (39, 68, 68), (56, 77, 69), (74, 21, 77), (16, 29, 88), (65, 53, 96), (2, 77, 101)]\n",
        "\n",
        "Hint: You are allowed and encouraged to use built-in functions, such as [sorted()](https://docs.python.org/3.7/library/functions.html?highlight=sorted#sorted), for this task."
      ],
      "metadata": {
        "collapsed": false,
        "id": "JV1Mm9qA6iK5"
      }
    },
    {
      "cell_type": "code",
      "execution_count": null,
      "outputs": [
        {
          "output_type": "stream",
          "name": "stdout",
          "text": [
            "[(29, 31, 71), (46, 79, 48), (92, 22, 34), (88, 42, 12), (58, 91, 93), (71, 43, 68), (27, 49, 1), (72, 74, 89), (54, 17, 52), (74, 32, 62)]\n",
            "79\n",
            "[(27, 49, 1), (88, 42, 12), (92, 22, 34), (46, 79, 48), (54, 17, 52), (74, 32, 62), (71, 43, 68), (29, 31, 71), (72, 74, 89), (58, 91, 93)]\n"
          ]
        }
      ],
      "source": [
        "import random\n",
        "\n",
        "#Function which gives out the last element of a tupel\n",
        "def tup3(a):\n",
        "  return a[-1]\n",
        "\n",
        "list = []\n",
        "for i in range (10):\n",
        "  tup = (random.randint(1,100),random.randint(1,100),random.randint(1,100))\n",
        "  list.append(tup)\n",
        "print(list)\n",
        "newlist = sorted(list, key = tup3)\n",
        "print(newlist)\n",
        "\n"
      ],
      "metadata": {
        "id": "C3i7ctus6iK6",
        "colab": {
          "base_uri": "https://localhost:8080/"
        },
        "outputId": "17b0fe42-f009-4813-90bf-361f8c8eba1f"
      }
    },
    {
      "cell_type": "markdown",
      "source": [
        "## Task 05 – Check Brackets\n",
        "Write a program that reads in a string, which is supposed to be a mathematical expression. Focus on brackets only and check whether left and right brackets are composed correctly. Ignore all other characters (i.e. you don’t have to check correctness of operators and operands).\n",
        "Examples of correct input:\n",
        "* 3*(2+5)\n",
        "* ((()())())\n",
        "* (3+)(((4)))\n",
        "* Empty string\n",
        "\n",
        "Examples of incorrect input:\n",
        "* (3*(2+5)\n",
        "* ((()())(())\n",
        "* (3+)((4)))\n",
        "* ())(()\n"
      ],
      "metadata": {
        "collapsed": false,
        "id": "qz4P36Lz6iK6"
      }
    },
    {
      "cell_type": "code",
      "execution_count": null,
      "outputs": [
        {
          "output_type": "stream",
          "name": "stdout",
          "text": [
            " \n",
            "True\n"
          ]
        }
      ],
      "source": [
        "expr = input()\n",
        "#variable count+=1 if a left bracket occurs and count-=1 if a right bracket occurs\n",
        "count = 0\n",
        "correct = True\n",
        "for i in expr:\n",
        "  if i == \"(\":\n",
        "    count +=1\n",
        "  elif i == \")\":\n",
        "    count -=1\n",
        "    #if count<0, the brackets are not correct\n",
        "    if count < 0:\n",
        "      correct = False\n",
        "if not(count == 0 and correct):\n",
        "  correct = False\n",
        "print (correct)\n",
        "\n"
      ],
      "metadata": {
        "id": "2c67p_Zc6iK7",
        "colab": {
          "base_uri": "https://localhost:8080/"
        },
        "outputId": "adb79734-a169-4f4c-c884-9f365cdec123"
      }
    },
    {
      "cell_type": "markdown",
      "source": [
        "## Task 06 – Check Brackets II\n",
        "Extend previous program, so it can handle also square and curly brackets. Note that expressions in brackets cannot overlap. So, expression ```{[()()]([[]])}{}``` is correct, but expression ```([)]``` is not."
      ],
      "metadata": {
        "collapsed": false,
        "id": "k1kh3odh6iK7"
      }
    },
    {
      "cell_type": "code",
      "execution_count": 23,
      "outputs": [
        {
          "output_type": "stream",
          "name": "stdout",
          "text": [
            "([)\n",
            "False\n"
          ]
        }
      ],
      "source": [
        "expr = input()\n",
        "brackets = [\"(\",\")\",\"[\",\"]\",\"{\",\"}\"]\n",
        "lbrackets = [\"(\",\"[\",\"{\"]\n",
        "rbrackets = [\")\",\"]\",\"}\"]\n",
        "list=[]\n",
        "count1=0\n",
        "count2=0\n",
        "count3=0\n",
        "\n",
        "correct = True\n",
        "\n",
        "#list with only brackets\n",
        "for i in expr:\n",
        "  if i in brackets:\n",
        "    list.append(i)\n",
        "\n",
        "\n",
        "#variable count+=1 if a left bracket occurs and count-=1 if a right bracket occurs\n",
        "#check if the amount of right and left brackets is the same\n",
        "for i in list:\n",
        "  if i == \"(\":\n",
        "    count1 +=1\n",
        "  elif i == \")\":\n",
        "    count1 -=1 \n",
        "  elif i == \"{\":\n",
        "    count2 +=1\n",
        "  elif i == \"}\":\n",
        "    count2 -=1\n",
        "  elif i == \"[\":\n",
        "    count3 +=1\n",
        "  elif i == \"]\":\n",
        "    count3 -=1\n",
        "\n",
        "#if there is not the same amount of left and right brackets of the same type, the expression is wrong.\n",
        "if count1 !=0 or count2 != 0 or count3 != 0:\n",
        "  correct = False\n",
        "\n",
        "#check if the brackets are in right order: left brackets are added to a new list and if right brackets occur,\n",
        "#the last left bracket is deleted if it is the left bracket of the same type. If it is not the expression is wrong.\n",
        "if correct:\n",
        "  nlist = []\n",
        "  for i in list:\n",
        "    if i in [\"(\",\"[\",\"{\"]:\n",
        "      nlist.append(i)\n",
        "    else:\n",
        "      for l,r in zip(lbrackets, rbrackets):\n",
        "        if i == r:\n",
        "          if nlist[-1] == l:\n",
        "            del nlist[-1]\n",
        "          else:\n",
        "            correct = False\n",
        "            break\n",
        "\n",
        "#in the end the list must be empty\n",
        "if len(nlist) != 0 and correct:\n",
        "  correct = False\n",
        "\n",
        "print(correct)\n",
        "\n"
      ],
      "metadata": {
        "id": "2-UCbTRQ6iK7",
        "colab": {
          "base_uri": "https://localhost:8080/"
        },
        "outputId": "fa417161-e477-4a76-ecf2-301068a97e2e"
      }
    },
    {
      "cell_type": "markdown",
      "source": [
        "## Task 07 – Queue\n",
        "Write a program that simulates a queue. It will read strings from the input. Consider these inputs as names of people coming to the end of a queue. Whenever “next” is given as input, the program will print out the name on the turn. The program finishes as soon as the queue is empty."
      ],
      "metadata": {
        "collapsed": false,
        "id": "tc-8rPlP6iK7"
      }
    },
    {
      "cell_type": "code",
      "execution_count": null,
      "outputs": [
        {
          "output_type": "stream",
          "name": "stdout",
          "text": [
            "a\n",
            "b\n",
            "next\n",
            "a\n",
            "next\n",
            "b\n"
          ]
        }
      ],
      "source": [
        "per = input()\n",
        "que = [per]\n",
        "while (len(que) != 0):\n",
        "  per = input()\n",
        "  if per == \"next\":\n",
        "    print(que[0])\n",
        "    del que[0]\n",
        "  else:\n",
        "    que.append(per)"
      ],
      "metadata": {
        "id": "X0o04N6s6iK7",
        "colab": {
          "base_uri": "https://localhost:8080/"
        },
        "outputId": "937b1e5f-fbd9-4371-c963-bd8c704eb208"
      }
    },
    {
      "cell_type": "markdown",
      "source": [
        "## Task 08 – Unlimited Power\n",
        "Write a function with two arguments – $x$ and $n$. The function returns the value of $x^n$. Use [recursion](https://realpython.com/python-thinking-recursively/#recursive-data-structures-in-python)."
      ],
      "metadata": {
        "collapsed": false,
        "id": "eIhaN3g36iK8"
      }
    },
    {
      "cell_type": "code",
      "execution_count": 6,
      "outputs": [],
      "source": [
        "def potenz(x,n):\n",
        "  if n == 0:\n",
        "    return 1\n",
        "  else:\n",
        "    return x * potenz(x,n-1)\n"
      ],
      "metadata": {
        "id": "KSGHEAeL6iK8"
      }
    },
    {
      "cell_type": "markdown",
      "source": [
        "## Task 09 – Unlimited Power II\n",
        "Using function for factorial and function $x^n$ from previous task, write a program that reads value of $x$ and prints approximate value of $e^x$. Use this formula (Taylor series) for calculation\n",
        "$$ e^x = 1 + x + \\frac{x^2}{2!} + \\frac{x^3}{3!} + ... + \\frac{x^n}{n!} $$\n",
        "\n",
        "To get precise value of $e^x$, the series would have to be infinite. Suppose that there is some required accuracy, so the calculation finishes as soon as the value of the next element is smaller than given threshold (e.g., 0.000001)."
      ],
      "metadata": {
        "collapsed": false,
        "id": "WBh2WBXY6iK8"
      }
    },
    {
      "cell_type": "code",
      "execution_count": 12,
      "outputs": [
        {
          "output_type": "stream",
          "name": "stdout",
          "text": [
            "2.7182815255731922\n"
          ]
        }
      ],
      "source": [
        "#Factorial function\n",
        "def factorial(x):\n",
        "  if x == 0:\n",
        "    return 1\n",
        "  else:\n",
        "    return x * factorial(x-1)\n",
        "\n",
        "#e-function\n",
        "#th = threshold\n",
        "def eul(x,th):\n",
        "  result = 1 + x\n",
        "  #running index i\n",
        "  i=2\n",
        "  #if next_element is < threshold, stops becomes True and the calculation is finished\n",
        "  stop = False\n",
        "  while (not stop):\n",
        "    next_element = potenz(x,i)/factorial(i)\n",
        "    i+=1\n",
        "    if next_element < th:\n",
        "      stop = True\n",
        "    else:\n",
        "      result+=next_element\n",
        "  return result\n",
        "\n",
        "print(eul(1,0.000001))"
      ],
      "metadata": {
        "id": "tRaZgBVX6iK9",
        "colab": {
          "base_uri": "https://localhost:8080/"
        },
        "outputId": "ee0e6454-b585-44e8-d496-b1229cfc1f7c"
      }
    },
    {
      "cell_type": "markdown",
      "source": [
        "## Acknowledgements\n",
        "\n",
        "Redmond, Hsu, Saini, Gupta, Ramsey, Kondrich, Capoor, Cohen, Borus, Kincaid, Malik, and many others. - Stanford CS41"
      ],
      "metadata": {
        "collapsed": false,
        "id": "Wl9JCEYM6iK-"
      }
    },
    {
      "cell_type": "code",
      "execution_count": null,
      "outputs": [],
      "source": [],
      "metadata": {
        "id": "Bx-WQj4v6iK-"
      }
    }
  ],
  "metadata": {
    "kernelspec": {
      "display_name": "Python 3",
      "language": "python",
      "name": "python3"
    },
    "language_info": {
      "codemirror_mode": {
        "name": "ipython",
        "version": 2
      },
      "file_extension": ".py",
      "mimetype": "text/x-python",
      "name": "python",
      "nbconvert_exporter": "python",
      "pygments_lexer": "ipython2",
      "version": "2.7.6"
    },
    "colab": {
      "provenance": [],
      "include_colab_link": true
    }
  },
  "nbformat": 4,
  "nbformat_minor": 0
}